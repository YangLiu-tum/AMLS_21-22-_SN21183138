{
 "cells": [
  {
   "cell_type": "markdown",
   "id": "f7cf9748",
   "metadata": {},
   "source": [
    "# Task B: SVM"
   ]
  },
  {
   "cell_type": "markdown",
   "id": "ad3dca4e",
   "metadata": {},
   "source": [
    "## 0. Load the preprocessed data\n",
    "**We will use the preprocessed dataset after image processing and PCA. It characterizes 4 different classes (tumor or not) based on 200 features.** "
   ]
  },
  {
   "cell_type": "code",
   "execution_count": 1,
   "id": "e4dffb7d",
   "metadata": {},
   "outputs": [],
   "source": [
    "# Import necessary libraries\n",
    "import pickle\n",
    "import numpy as np\n",
    "import pandas as pd"
   ]
  },
  {
   "cell_type": "code",
   "execution_count": 2,
   "id": "2ed198e3",
   "metadata": {},
   "outputs": [
    {
     "name": "stdout",
     "output_type": "stream",
     "text": [
      "(3000, 200) (3000,)\n"
     ]
    }
   ],
   "source": [
    "# Load preprocessed data with help of pickle.\n",
    "with open('DataAfterProcess/images_AfterProcess_TaskA.pickle', 'rb') as handle:\n",
    "    X = pickle.load(handle)\n",
    "    \n",
    "with open('DataAfterProcess/label_AfterProcess.pickle', 'rb') as handle:\n",
    "    y = pickle.load(handle)\n",
    "    \n",
    "# Check result.\n",
    "print(X.shape, y.shape) "
   ]
  },
  {
   "cell_type": "markdown",
   "id": "6ab64221",
   "metadata": {},
   "source": [
    "### Train Test Split\n",
    "\n",
    "**Split data into a training set (90%) and a test set (10%). Note that the test set here comes from the dataset.zip file, not the test.zip file.**"
   ]
  },
  {
   "cell_type": "code",
   "execution_count": 3,
   "id": "7474e4f9",
   "metadata": {},
   "outputs": [],
   "source": [
    "# Import necessary libraries\n",
    "from sklearn.model_selection import train_test_split"
   ]
  },
  {
   "cell_type": "code",
   "execution_count": 4,
   "id": "ad638729",
   "metadata": {},
   "outputs": [
    {
     "name": "stdout",
     "output_type": "stream",
     "text": [
      "(2430, 200) (2430,) (270, 200) (270,) (300, 200) (300,)\n",
      "train set: 0.81 | val set: 0.09 | test set: 0.1\n"
     ]
    }
   ],
   "source": [
    "# Split data into a training set and a test set (90% training and 10% testing data).\n",
    "# Notice that all random state is chosen as fixed in this assignment to ensure reproducibility.\n",
    "X_train, X_test, y_train, y_test = train_test_split(X,y, \n",
    "                                                    test_size=0.1, random_state=3)\n",
    "\n",
    "# Split training set into a new training set and a validation set (90% training and 10% validation data).\n",
    "X_train_new, X_val, y_train_new, y_val = train_test_split(X_train,y_train, \n",
    "                                                          test_size=0.1, random_state=3)\n",
    "\n",
    "# Check result.\n",
    "print(X_train_new.shape, y_train_new.shape, X_val.shape, y_val.shape, X_test.shape, y_test.shape) \n",
    "print('train set: {} | val set: {} | test set: {}'.format(round(len(y_train_new)/len(X),3), \n",
    "                                                          round(len(y_val)/len(X),3),\n",
    "                                                          round(len(y_test)/len(X),3)))"
   ]
  },
  {
   "cell_type": "markdown",
   "id": "ffca63f4",
   "metadata": {},
   "source": [
    "## 1. Train a SVM model\n",
    "**Firstly, we train a SVM model without hyperparameter tuning in order to compare with model trained from GridsearchCV in next step.**"
   ]
  },
  {
   "cell_type": "code",
   "execution_count": 5,
   "id": "06a34291",
   "metadata": {},
   "outputs": [],
   "source": [
    "# Import necessary libraries\n",
    "from sklearn.svm import SVC"
   ]
  },
  {
   "cell_type": "code",
   "execution_count": 6,
   "id": "147533f9",
   "metadata": {},
   "outputs": [
    {
     "data": {
      "text/plain": [
       "SVC(decision_function_shape='ovo', random_state=0)"
      ]
     },
     "execution_count": 6,
     "metadata": {},
     "output_type": "execute_result"
    }
   ],
   "source": [
    "# Call the SVC() model from sklearn and fit the model to the training data.\n",
    "# Notice that all random state is chosen as fixed in this assignment to ensure reproducibility.\n",
    "svm = SVC(random_state=0, decision_function_shape='ovo')\n",
    "svm.fit(X_train_new, y_train_new)"
   ]
  },
  {
   "cell_type": "markdown",
   "id": "774d7fae",
   "metadata": {},
   "source": [
    "### Model validation\n",
    "**Evaluate the model per validation set by checking confusion matrix, classification report, accuracy score and cohen kappa score.**"
   ]
  },
  {
   "cell_type": "code",
   "execution_count": 7,
   "id": "d8b0af1d",
   "metadata": {},
   "outputs": [],
   "source": [
    "# Import necessary libraries\n",
    "from sklearn.metrics import confusion_matrix, classification_report, accuracy_score, cohen_kappa_score"
   ]
  },
  {
   "cell_type": "code",
   "execution_count": 8,
   "id": "13da4450",
   "metadata": {},
   "outputs": [
    {
     "name": "stdout",
     "output_type": "stream",
     "text": [
      "Confusion matrix: \n",
      " [[32  1  4  2]\n",
      " [ 5 63  6  0]\n",
      " [ 3 10 59  1]\n",
      " [ 0  0  2 82]] \n",
      "\n",
      "Accuracy on validation set:  0.8740740740740741 \n",
      "\n",
      "Classification report: \n",
      "               precision    recall  f1-score   support\n",
      "\n",
      "           0       0.80      0.82      0.81        39\n",
      "           1       0.85      0.85      0.85        74\n",
      "           2       0.83      0.81      0.82        73\n",
      "           3       0.96      0.98      0.97        84\n",
      "\n",
      "    accuracy                           0.87       270\n",
      "   macro avg       0.86      0.86      0.86       270\n",
      "weighted avg       0.87      0.87      0.87       270\n",
      " \n",
      "\n",
      "cohen_kappa score： 0.8285426122037317\n"
     ]
    }
   ],
   "source": [
    "# Get predictions from the model.\n",
    "y_pred = svm.predict(X_val)\n",
    "\n",
    "# Print model performance: Confusion matrix, accuracy score, classification report and cohen kappa score.\n",
    "print('Confusion matrix: \\n', confusion_matrix(y_val, y_pred), '\\n')\n",
    "print('Accuracy on validation set: ', accuracy_score(y_val, y_pred), '\\n')\n",
    "print('Classification report: \\n', classification_report(y_val, y_pred), '\\n') \n",
    "print('cohen_kappa score：',cohen_kappa_score(y_val, y_pred))"
   ]
  }
 ],
 "metadata": {
  "kernelspec": {
   "display_name": "Python 3 (ipykernel)",
   "language": "python",
   "name": "python3"
  },
  "language_info": {
   "codemirror_mode": {
    "name": "ipython",
    "version": 3
   },
   "file_extension": ".py",
   "mimetype": "text/x-python",
   "name": "python",
   "nbconvert_exporter": "python",
   "pygments_lexer": "ipython3",
   "version": "3.7.11"
  }
 },
 "nbformat": 4,
 "nbformat_minor": 5
}
