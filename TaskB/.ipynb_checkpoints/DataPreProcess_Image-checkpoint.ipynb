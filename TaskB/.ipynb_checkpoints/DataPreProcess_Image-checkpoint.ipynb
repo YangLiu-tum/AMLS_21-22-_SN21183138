{
 "cells": [
  {
   "cell_type": "markdown",
   "id": "314c9823",
   "metadata": {},
   "source": [
    "# Task B: Image Preprocessing"
   ]
  },
  {
   "cell_type": "markdown",
   "id": "20e71f81",
   "metadata": {},
   "source": [
    "## 1. Preprocess the label file of MRI dataset"
   ]
  },
  {
   "cell_type": "code",
   "execution_count": 7,
   "id": "288613e0",
   "metadata": {},
   "outputs": [],
   "source": [
    "# Import necessary libraries\n",
    "import pickle\n",
    "import numpy as np\n",
    "import pandas as pd"
   ]
  },
  {
   "cell_type": "markdown",
   "id": "375166f5",
   "metadata": {},
   "source": [
    "## 2. Preprocess MRI images"
   ]
  },
  {
   "cell_type": "code",
   "execution_count": 8,
   "id": "b6abac93",
   "metadata": {},
   "outputs": [],
   "source": [
    "# Import necessary libraries\n",
    "import cv2\n",
    "from glob import glob"
   ]
  },
  {
   "cell_type": "code",
   "execution_count": 9,
   "id": "18e23a01",
   "metadata": {},
   "outputs": [],
   "source": [
    "# Read 3000 512x512 pixel gray-scale MRI images\n",
    "images = [cv2.imread(image, cv2.IMREAD_GRAYSCALE) \n",
    "          for image in glob('dataset/image/*.jpg')]\n",
    "\n",
    "images_blur = [cv2.medianBlur(images[i], 5)\n",
    "               for i in range(0, len(images))]\n",
    "\n",
    "resize = 128\n",
    "images_resized = [cv2.resize(images_blur[i], (resize,resize))\n",
    "                  for i in range(0, len(images))]"
   ]
  },
  {
   "cell_type": "code",
   "execution_count": 10,
   "id": "3c8158f9",
   "metadata": {},
   "outputs": [],
   "source": [
    "hog = cv2.HOGDescriptor()   \n",
    "\n",
    "images_hog = [hog.compute(images_resized[i])\n",
    "              for i in range(0, len(images))]"
   ]
  },
  {
   "cell_type": "code",
   "execution_count": 11,
   "id": "ad43e697",
   "metadata": {},
   "outputs": [
    {
     "data": {
      "text/plain": [
       "(3000, 34020)"
      ]
     },
     "execution_count": 11,
     "metadata": {},
     "output_type": "execute_result"
    }
   ],
   "source": [
    "# Transfer images into array dataformat.\n",
    "images_TaskB = np.array(images_hog)\n",
    "\n",
    "images_TaskB = images_TaskB.reshape(3000, images_TaskB.shape[1])\n",
    "images_TaskB.shape"
   ]
  },
  {
   "cell_type": "code",
   "execution_count": 12,
   "id": "1fd9ac91",
   "metadata": {},
   "outputs": [],
   "source": [
    "# Save preprocessed data with help of pickle.\n",
    "with open('DataAfterProcess/images_hog.pickle', 'wb') as handle:\n",
    "    pickle.dump(images_TaskB, handle)"
   ]
  },
  {
   "cell_type": "code",
   "execution_count": 13,
   "id": "2ce61a2f",
   "metadata": {},
   "outputs": [
    {
     "data": {
      "text/plain": [
       "PCA(n_components=500)"
      ]
     },
     "execution_count": 13,
     "metadata": {},
     "output_type": "execute_result"
    }
   ],
   "source": [
    "from sklearn.decomposition import PCA\n",
    "n_components_test = 500\n",
    "\n",
    "pca_test = PCA(n_components=n_components_test)\n",
    "pca_test.fit(images_TaskB)"
   ]
  },
  {
   "cell_type": "code",
   "execution_count": 15,
   "id": "b64a6f4b",
   "metadata": {},
   "outputs": [
    {
     "data": {
      "text/plain": [
       "[<matplotlib.lines.Line2D at 0x23706667f48>]"
      ]
     },
     "execution_count": 15,
     "metadata": {},
     "output_type": "execute_result"
    },
    {
     "data": {
      "image/png": "[encoded data removed]",
      "text/plain": [
       "<Figure size 720x720 with 1 Axes>"
      ]
     },
     "metadata": {
      "needs_background": "light"
     },
     "output_type": "display_data"
    }
   ],
   "source": [
    "import matplotlib.pyplot as plt\n",
    "\n",
    "variance_ratio = pca_test.explained_variance_ratio_\n",
    "variance_ratio_cum = variance_ratio.cumsum()\n",
    "\n",
    "plt.figure(figsize=(10,10))\n",
    "plt.plot(variance_ratio_cum[:n_components_test], 'o-')\n",
    "plt.plot(variance_ratio[:n_components_test], '*-')"
   ]
  },
  {
   "cell_type": "code",
   "execution_count": 16,
   "id": "4f2ff4d3",
   "metadata": {},
   "outputs": [],
   "source": [
    "pca_TaskB = PCA(n_components=400)\n",
    "images_PCA_TaskB = pca_TaskB.fit_transform(images_TaskB)"
   ]
  },
  {
   "cell_type": "code",
   "execution_count": 17,
   "id": "03855861",
   "metadata": {},
   "outputs": [],
   "source": [
    "with open('Model/DataProcess_PCA.pickle', 'wb') as handle:\n",
    "    pickle.dump(pca_TaskB, handle)"
   ]
  },
  {
   "cell_type": "markdown",
   "id": "30ff5c17",
   "metadata": {},
   "source": [
    "## 4. Save preprocessed data"
   ]
  },
  {
   "cell_type": "code",
   "execution_count": 18,
   "id": "b834799d",
   "metadata": {},
   "outputs": [],
   "source": [
    "# Import necessary libraries\n",
    "import pickle"
   ]
  },
  {
   "cell_type": "code",
   "execution_count": 19,
   "id": "d4ddce38",
   "metadata": {},
   "outputs": [
    {
     "data": {
      "text/plain": [
       "(3000, 400)"
      ]
     },
     "execution_count": 19,
     "metadata": {},
     "output_type": "execute_result"
    }
   ],
   "source": [
    "# Generate new data array of preprocessed data.\n",
    "# images_AfterProcess = images_PCA.copy()\n",
    "images_AfterProcess = images_PCA_TaskB.copy()\n",
    "\n",
    "# Check preprocessed data.\n",
    "images_AfterProcess.shape"
   ]
  },
  {
   "cell_type": "code",
   "execution_count": 20,
   "id": "30cbb5b4",
   "metadata": {},
   "outputs": [],
   "source": [
    "# Save preprocessed data with help of pickle.\n",
    "with open('DataAfterProcess/images_AfterProcess.pickle', 'wb') as handle:\n",
    "    pickle.dump(images_PCA_TaskB, handle)"
   ]
  },
  {
   "cell_type": "code",
   "execution_count": null,
   "id": "f368bfe3",
   "metadata": {},
   "outputs": [],
   "source": []
  }
 ],
 "metadata": {
  "kernelspec": {
   "display_name": "Python 3 (ipykernel)",
   "language": "python",
   "name": "python3"
  },
  "language_info": {
   "codemirror_mode": {
    "name": "ipython",
    "version": 3
   },
   "file_extension": ".py",
   "mimetype": "text/x-python",
   "name": "python",
   "nbconvert_exporter": "python",
   "pygments_lexer": "ipython3",
   "version": "3.7.11"
  }
 },
 "nbformat": 4,
 "nbformat_minor": 5
}
