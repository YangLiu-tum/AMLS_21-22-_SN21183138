{
 "cells": [
  {
   "cell_type": "markdown",
   "id": "314c9823",
   "metadata": {},
   "source": [
    "# Task B: Image Preprocessing"
   ]
  },
  {
   "cell_type": "markdown",
   "id": "20e71f81",
   "metadata": {},
   "source": [
    "## 1. Preprocess MRI images with HOG descriptor"
   ]
  },
  {
   "cell_type": "code",
   "execution_count": 2,
   "id": "288613e0",
   "metadata": {},
   "outputs": [],
   "source": [
    "# Import necessary libraries\n",
    "import cv2\n",
    "import numpy as np\n",
    "import pandas as pd\n",
    "\n",
    "from glob import glob"
   ]
  },
  {
   "cell_type": "code",
   "execution_count": 3,
   "id": "18e23a01",
   "metadata": {},
   "outputs": [],
   "source": [
    "# Read 3000 512x512 pixel gray-scale MRI images\n",
    "images = [cv2.imread(image, cv2.IMREAD_GRAYSCALE) \n",
    "          for image in glob('dataset/image/*.jpg')]\n",
    "\n",
    "# Median filter is used to remove noise from the MRI images. \n",
    "images_blur = [cv2.medianBlur(images[i], 5)\n",
    "               for i in range(0, len(images))]\n",
    "\n",
    "# Resize images into 128*128 pixel\n",
    "resize = 128\n",
    "images_resized = [cv2.resize(images_blur[i], (resize,resize))\n",
    "                  for i in range(0, len(images))]"
   ]
  },
  {
   "cell_type": "code",
   "execution_count": 5,
   "id": "3c8158f9",
   "metadata": {},
   "outputs": [
    {
     "name": "stdout",
     "output_type": "stream",
     "text": [
      "(3000, 34020)\n"
     ]
    }
   ],
   "source": [
    "# HOG descriptor is used to extract feature vector of images. \n",
    "hog = cv2.HOGDescriptor()   \n",
    "images_hog = [hog.compute(images_resized[i])\n",
    "              for i in range(0, len(images))]\n",
    "\n",
    "# Transfer images into array dataformat.\n",
    "images_TaskB = np.array(images_hog)\n",
    "images_TaskB = images_TaskB.reshape(3000, images_TaskB.shape[1])\n",
    "\n",
    "# Check result.\n",
    "print(images_TaskB.shape)"
   ]
  },
  {
   "cell_type": "markdown",
   "id": "6d272895",
   "metadata": {},
   "source": [
    "### Implement PCA to reduce dimension of feature vector"
   ]
  },
  {
   "cell_type": "code",
   "execution_count": 6,
   "id": "7d9813e7",
   "metadata": {},
   "outputs": [],
   "source": [
    "# Import necessary libraries\n",
    "from sklearn.decomposition import PCA"
   ]
  },
  {
   "cell_type": "code",
   "execution_count": 7,
   "id": "2ce61a2f",
   "metadata": {},
   "outputs": [
    {
     "data": {
      "text/plain": [
       "PCA(n_components=500)"
      ]
     },
     "execution_count": 7,
     "metadata": {},
     "output_type": "execute_result"
    }
   ],
   "source": [
    "# Call the PCA() model from sklearn and fit the model to the data without PCA.\n",
    "# In this example, we want to oberserve the top 500 principal components of data.\n",
    "pca_test = PCA(n_components=500)\n",
    "pca_test.fit(images_TaskB)"
   ]
  },
  {
   "cell_type": "code",
   "execution_count": 8,
   "id": "b64a6f4b",
   "metadata": {},
   "outputs": [
    {
     "data": {
      "text/plain": [
       "Text(0, 0.5, 'Loss')"
      ]
     },
     "execution_count": 8,
     "metadata": {},
     "output_type": "execute_result"
    },
    {
     "data": {
      "image/png": "[encoded data removed]",
      "text/plain": [
       "<Figure size 576x432 with 1 Axes>"
      ]
     },
     "metadata": {
      "needs_background": "light"
     },
     "output_type": "display_data"
    }
   ],
   "source": [
    "# Import necessary libraries\n",
    "import matplotlib.pyplot as plt\n",
    "\n",
    "# Compute cumulative variance ratio of first 500 principle components.\n",
    "n_components_test = 500\n",
    "variance_ratio = pca_test.explained_variance_ratio_\n",
    "variance_ratio_cum = variance_ratio.cumsum()\n",
    "\n",
    "# Plot cumulative variance ratio of first 500 principle components.\n",
    "plt.figure(figsize=(8,6))\n",
    "plt.grid()   \n",
    "\n",
    "plt.plot(variance_ratio_cum[:n_components_test], 'o-')\n",
    "plt.title('Cumulative variance ratio')\n",
    "plt.xlabel('Number of components')\n",
    "plt.ylabel('Loss')"
   ]
  },
  {
   "cell_type": "code",
   "execution_count": 9,
   "id": "4f2ff4d3",
   "metadata": {},
   "outputs": [],
   "source": [
    "# Call the PCA() model from sklearn and fit the model to the training data.\n",
    "# Notice that number of components is chosen as 400, since they contain more than 80% of information.\n",
    "pca_TaskB = PCA(n_components=400)\n",
    "images_PCA_TaskB = pca_TaskB.fit_transform(images_TaskB)"
   ]
  },
  {
   "cell_type": "markdown",
   "id": "30ff5c17",
   "metadata": {},
   "source": [
    "## 2. Save preprocessed data"
   ]
  },
  {
   "cell_type": "code",
   "execution_count": 10,
   "id": "b834799d",
   "metadata": {},
   "outputs": [],
   "source": [
    "# Import necessary libraries\n",
    "import pickle"
   ]
  },
  {
   "cell_type": "code",
   "execution_count": 11,
   "id": "d4ddce38",
   "metadata": {},
   "outputs": [
    {
     "data": {
      "text/plain": [
       "(3000, 400)"
      ]
     },
     "execution_count": 11,
     "metadata": {},
     "output_type": "execute_result"
    }
   ],
   "source": [
    "# Generate new data array of preprocessed data.\n",
    "images_AfterProcess = images_PCA_TaskB.copy()\n",
    "\n",
    "# Check preprocessed data.\n",
    "images_AfterProcess.shape"
   ]
  },
  {
   "cell_type": "code",
   "execution_count": 12,
   "id": "30cbb5b4",
   "metadata": {},
   "outputs": [],
   "source": [
    "# Save PCA model trained with 3000 HOG feature vectors.\n",
    "with open('Model/DataProcess_PCA.pickle', 'wb') as handle:\n",
    "    pickle.dump(pca_TaskB, handle)\n",
    "\n",
    "# Save preprocessed data with help of pickle.\n",
    "with open('DataAfterProcess/images_AfterProcess.pickle', 'wb') as handle:\n",
    "    pickle.dump(images_PCA_TaskB, handle)"
   ]
  },
  {
   "cell_type": "code",
   "execution_count": null,
   "id": "f368bfe3",
   "metadata": {},
   "outputs": [],
   "source": []
  }
 ],
 "metadata": {
  "kernelspec": {
   "display_name": "Python 3 (ipykernel)",
   "language": "python",
   "name": "python3"
  },
  "language_info": {
   "codemirror_mode": {
    "name": "ipython",
    "version": 3
   },
   "file_extension": ".py",
   "mimetype": "text/x-python",
   "name": "python",
   "nbconvert_exporter": "python",
   "pygments_lexer": "ipython3",
   "version": "3.7.11"
  }
 },
 "nbformat": 4,
 "nbformat_minor": 5
}
