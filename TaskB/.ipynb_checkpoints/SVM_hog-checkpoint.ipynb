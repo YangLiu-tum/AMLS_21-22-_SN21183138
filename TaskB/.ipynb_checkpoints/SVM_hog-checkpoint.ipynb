{
 "cells": [
  {
   "cell_type": "markdown",
   "id": "f7cf9748",
   "metadata": {},
   "source": [
    "# Task B: SVM with HOG features"
   ]
  },
  {
   "cell_type": "markdown",
   "id": "ad3dca4e",
   "metadata": {},
   "source": [
    "## 0. Load the preprocessed data\n",
    "**We will use preprocessed image dataset and testset after HOG descriptor and PCA. They characterize 4 different tumor classes based on 400 features.** "
   ]
  },
  {
   "cell_type": "code",
   "execution_count": 1,
   "id": "e4dffb7d",
   "metadata": {},
   "outputs": [],
   "source": [
    "# Import necessary libraries\n",
    "import pickle\n",
    "import numpy as np\n",
    "import pandas as pd"
   ]
  },
  {
   "cell_type": "code",
   "execution_count": 2,
   "id": "2ed198e3",
   "metadata": {},
   "outputs": [
    {
     "name": "stdout",
     "output_type": "stream",
     "text": [
      "(3000, 400) (3000,)\n"
     ]
    }
   ],
   "source": [
    "# Load preprocessed image data with help of pickle.\n",
    "with open('DataAfterProcess/images_AfterProcess.pickle', 'rb') as handle:\n",
    "    X = pickle.load(handle)\n",
    "    \n",
    "with open('DataAfterProcess/label_AfterProcess.pickle', 'rb') as handle:\n",
    "    y = pickle.load(handle)\n",
    "    \n",
    "# Check result.\n",
    "print(X.shape, y.shape) "
   ]
  },
  {
   "cell_type": "code",
   "execution_count": 3,
   "id": "8cbc93a9",
   "metadata": {},
   "outputs": [
    {
     "name": "stdout",
     "output_type": "stream",
     "text": [
      "(200, 400) (200,)\n"
     ]
    }
   ],
   "source": [
    "# Load preprocessed test dataset with help of pickle.\n",
    "with open('DataAfterProcess/test_images_AfterProcess.pickle', 'rb') as handle:\n",
    "    X_test = pickle.load(handle)\n",
    "    \n",
    "with open('DataAfterProcess/test_label_AfterProcess.pickle', 'rb') as handle:\n",
    "    y_test = pickle.load(handle)\n",
    "    \n",
    "# Check result.\n",
    "print(X_test.shape, y_test.shape) "
   ]
  },
  {
   "cell_type": "markdown",
   "id": "6ab64221",
   "metadata": {},
   "source": [
    "### Training-Validation-Test \n",
    "**Split the preprocessed image dataset into training set (90%) and validation set (10%). The test set is chosen as dataset from AMLS-2021_test.zip.**"
   ]
  },
  {
   "cell_type": "code",
   "execution_count": 4,
   "id": "7474e4f9",
   "metadata": {},
   "outputs": [],
   "source": [
    "# Import necessary libraries\n",
    "from sklearn.model_selection import train_test_split"
   ]
  },
  {
   "cell_type": "code",
   "execution_count": 5,
   "id": "ad638729",
   "metadata": {},
   "outputs": [
    {
     "name": "stdout",
     "output_type": "stream",
     "text": [
      "(2700, 400) (2700,) (300, 400) (300,) (200, 400) (200,)\n",
      "train set: 0.9 | val set: 0.1 | test set: 0.067\n"
     ]
    }
   ],
   "source": [
    "# Split dataset into a training set and a validation set (90% training and 10% validation data).\n",
    "# Notice that all random state is chosen as fixed in this assignment to ensure reproducibility.\n",
    "X_train, X_val, y_train, y_val = train_test_split(X,y, \n",
    "                                                  test_size=0.1, random_state=1)\n",
    "\n",
    "# Check result.\n",
    "print(X_train.shape, y_train.shape, X_val.shape, y_val.shape, X_test.shape, y_test.shape) \n",
    "print('train set: {} | val set: {} | test set: {}'.format(round(len(y_train)/len(X),3), \n",
    "                                                          round(len(y_val)/len(X),3),\n",
    "                                                          round(len(y_test)/len(X),3)))"
   ]
  },
  {
   "cell_type": "markdown",
   "id": "ffca63f4",
   "metadata": {},
   "source": [
    "## 1. Train a SVM model without hyperparameter tuning\n",
    "**Firstly, we train a SVM model without hyperparameter tuning in order to compare with model trained from GridsearchCV in next step.**"
   ]
  },
  {
   "cell_type": "code",
   "execution_count": 6,
   "id": "06a34291",
   "metadata": {},
   "outputs": [],
   "source": [
    "# Import necessary libraries\n",
    "from sklearn.svm import SVC"
   ]
  },
  {
   "cell_type": "code",
   "execution_count": 7,
   "id": "147533f9",
   "metadata": {},
   "outputs": [
    {
     "data": {
      "text/plain": [
       "SVC(decision_function_shape='ovo', random_state=0)"
      ]
     },
     "execution_count": 7,
     "metadata": {},
     "output_type": "execute_result"
    }
   ],
   "source": [
    "# Call the SVC() model from sklearn and fit the model to the training data.\n",
    "# Notice that all random state is chosen as fixed in this assignment to ensure reproducibility.\n",
    "svm = SVC(random_state=0, decision_function_shape='ovo')\n",
    "svm.fit(X_train, y_train)"
   ]
  },
  {
   "cell_type": "markdown",
   "id": "774d7fae",
   "metadata": {},
   "source": [
    "### Model validation\n",
    "**Evaluate the model per validation set by checking confusion matrix, classification report, accuracy score and cohen kappa score.**"
   ]
  },
  {
   "cell_type": "code",
   "execution_count": 8,
   "id": "d8b0af1d",
   "metadata": {},
   "outputs": [],
   "source": [
    "# Import necessary libraries\n",
    "from sklearn.metrics import confusion_matrix, classification_report, accuracy_score, cohen_kappa_score"
   ]
  },
  {
   "cell_type": "code",
   "execution_count": 9,
   "id": "13da4450",
   "metadata": {
    "scrolled": true
   },
   "outputs": [
    {
     "name": "stdout",
     "output_type": "stream",
     "text": [
      "Confusion matrix: \n",
      " [[34  1  3  1]\n",
      " [ 2 79 10  0]\n",
      " [ 3  5 76  1]\n",
      " [ 0  1  2 82]] \n",
      "\n",
      "Accuracy on validation set:  0.9033333333333333 \n",
      "\n",
      "Classification report: \n",
      "               precision    recall  f1-score   support\n",
      "\n",
      "           0       0.87      0.87      0.87        39\n",
      "           1       0.92      0.87      0.89        91\n",
      "           2       0.84      0.89      0.86        85\n",
      "           3       0.98      0.96      0.97        85\n",
      "\n",
      "    accuracy                           0.90       300\n",
      "   macro avg       0.90      0.90      0.90       300\n",
      "weighted avg       0.91      0.90      0.90       300\n",
      " \n",
      "\n",
      "cohen_kappa score： 0.8677369333211712\n"
     ]
    }
   ],
   "source": [
    "# Get predictions from the model.\n",
    "y_pred = svm.predict(X_val)\n",
    "\n",
    "# Print model performance: Confusion matrix, accuracy score, classification report and cohen kappa score.\n",
    "print('Confusion matrix: \\n', confusion_matrix(y_val, y_pred), '\\n')\n",
    "print('Accuracy on validation set: ', accuracy_score(y_val, y_pred), '\\n')\n",
    "print('Classification report: \\n', classification_report(y_val, y_pred), '\\n') \n",
    "print('cohen_kappa score：',cohen_kappa_score(y_val, y_pred))"
   ]
  },
  {
   "cell_type": "markdown",
   "id": "ffabbb77",
   "metadata": {},
   "source": [
    "## 2. Hyperparameter tuning: GridsearchCV \n",
    "**Let's tune the hyper-parameters of SVM with help of GridsearchCV(). We tune the kernel with different regularizarion parameter C here.**"
   ]
  },
  {
   "cell_type": "markdown",
   "id": "8afde97e",
   "metadata": {},
   "source": [
    "### Implement GrisearchCV"
   ]
  },
  {
   "cell_type": "code",
   "execution_count": 10,
   "id": "36143246",
   "metadata": {},
   "outputs": [],
   "source": [
    "# Import necessary libraries\n",
    "from sklearn.model_selection import GridSearchCV"
   ]
  },
  {
   "cell_type": "code",
   "execution_count": 11,
   "id": "cf98cdf9",
   "metadata": {},
   "outputs": [],
   "source": [
    "# Create a dictionary called param_grid and fill out some parameters for C and kernel.\n",
    "param_grid = {'C': [0.1,0.2,1,2,10,20],\n",
    "              'kernel': ['poly', 'rbf']}"
   ]
  },
  {
   "cell_type": "code",
   "execution_count": 12,
   "id": "dacf0702",
   "metadata": {},
   "outputs": [
    {
     "name": "stdout",
     "output_type": "stream",
     "text": [
      "Fitting 5 folds for each of 12 candidates, totalling 60 fits\n",
      "[CV] END .................................C=0.1, kernel=poly; total time=   0.7s\n",
      "[CV] END .................................C=0.1, kernel=poly; total time=   0.7s\n",
      "[CV] END .................................C=0.1, kernel=poly; total time=   0.8s\n",
      "[CV] END .................................C=0.1, kernel=poly; total time=   0.7s\n",
      "[CV] END .................................C=0.1, kernel=poly; total time=   0.8s\n",
      "[CV] END ..................................C=0.1, kernel=rbf; total time=   1.0s\n",
      "[CV] END ..................................C=0.1, kernel=rbf; total time=   0.9s\n",
      "[CV] END ..................................C=0.1, kernel=rbf; total time=   0.9s\n",
      "[CV] END ..................................C=0.1, kernel=rbf; total time=   0.9s\n",
      "[CV] END ..................................C=0.1, kernel=rbf; total time=   1.0s\n",
      "[CV] END .................................C=0.2, kernel=poly; total time=   0.6s\n",
      "[CV] END .................................C=0.2, kernel=poly; total time=   0.7s\n",
      "[CV] END .................................C=0.2, kernel=poly; total time=   0.7s\n",
      "[CV] END .................................C=0.2, kernel=poly; total time=   0.8s\n",
      "[CV] END .................................C=0.2, kernel=poly; total time=   0.7s\n",
      "[CV] END ..................................C=0.2, kernel=rbf; total time=   0.9s\n",
      "[CV] END ..................................C=0.2, kernel=rbf; total time=   0.9s\n",
      "[CV] END ..................................C=0.2, kernel=rbf; total time=   0.9s\n",
      "[CV] END ..................................C=0.2, kernel=rbf; total time=   0.8s\n",
      "[CV] END ..................................C=0.2, kernel=rbf; total time=   0.8s\n",
      "[CV] END ...................................C=1, kernel=poly; total time=   0.6s\n",
      "[CV] END ...................................C=1, kernel=poly; total time=   0.7s\n",
      "[CV] END ...................................C=1, kernel=poly; total time=   0.7s\n",
      "[CV] END ...................................C=1, kernel=poly; total time=   0.7s\n",
      "[CV] END ...................................C=1, kernel=poly; total time=   0.7s\n",
      "[CV] END ....................................C=1, kernel=rbf; total time=   0.7s\n",
      "[CV] END ....................................C=1, kernel=rbf; total time=   0.7s\n",
      "[CV] END ....................................C=1, kernel=rbf; total time=   0.7s\n",
      "[CV] END ....................................C=1, kernel=rbf; total time=   0.7s\n",
      "[CV] END ....................................C=1, kernel=rbf; total time=   0.7s\n",
      "[CV] END ...................................C=2, kernel=poly; total time=   0.7s\n",
      "[CV] END ...................................C=2, kernel=poly; total time=   0.7s\n",
      "[CV] END ...................................C=2, kernel=poly; total time=   0.7s\n",
      "[CV] END ...................................C=2, kernel=poly; total time=   0.7s\n",
      "[CV] END ...................................C=2, kernel=poly; total time=   0.7s\n",
      "[CV] END ....................................C=2, kernel=rbf; total time=   0.7s\n",
      "[CV] END ....................................C=2, kernel=rbf; total time=   0.7s\n",
      "[CV] END ....................................C=2, kernel=rbf; total time=   0.7s\n",
      "[CV] END ....................................C=2, kernel=rbf; total time=   0.7s\n",
      "[CV] END ....................................C=2, kernel=rbf; total time=   0.7s\n",
      "[CV] END ..................................C=10, kernel=poly; total time=   0.7s\n",
      "[CV] END ..................................C=10, kernel=poly; total time=   0.8s\n",
      "[CV] END ..................................C=10, kernel=poly; total time=   0.8s\n",
      "[CV] END ..................................C=10, kernel=poly; total time=   0.7s\n",
      "[CV] END ..................................C=10, kernel=poly; total time=   0.8s\n",
      "[CV] END ...................................C=10, kernel=rbf; total time=   0.8s\n",
      "[CV] END ...................................C=10, kernel=rbf; total time=   0.8s\n",
      "[CV] END ...................................C=10, kernel=rbf; total time=   0.8s\n",
      "[CV] END ...................................C=10, kernel=rbf; total time=   0.7s\n",
      "[CV] END ...................................C=10, kernel=rbf; total time=   0.7s\n",
      "[CV] END ..................................C=20, kernel=poly; total time=   0.7s\n",
      "[CV] END ..................................C=20, kernel=poly; total time=   0.8s\n",
      "[CV] END ..................................C=20, kernel=poly; total time=   0.8s\n",
      "[CV] END ..................................C=20, kernel=poly; total time=   0.7s\n",
      "[CV] END ..................................C=20, kernel=poly; total time=   0.7s\n",
      "[CV] END ...................................C=20, kernel=rbf; total time=   0.7s\n",
      "[CV] END ...................................C=20, kernel=rbf; total time=   0.8s\n",
      "[CV] END ...................................C=20, kernel=rbf; total time=   0.8s\n",
      "[CV] END ...................................C=20, kernel=rbf; total time=   0.8s\n",
      "[CV] END ...................................C=20, kernel=rbf; total time=   0.7s\n"
     ]
    },
    {
     "data": {
      "text/plain": [
       "GridSearchCV(estimator=SVC(decision_function_shape='ovo'),\n",
       "             param_grid={'C': [0.1, 0.2, 1, 2, 10, 20],\n",
       "                         'kernel': ['poly', 'rbf']},\n",
       "             verbose=2)"
      ]
     },
     "execution_count": 12,
     "metadata": {},
     "output_type": "execute_result"
    }
   ],
   "source": [
    "# Create a GridSearchCV() object and fit it to the training data.\n",
    "grid_SVMTaskB = GridSearchCV(SVC(decision_function_shape='ovo'), param_grid=param_grid, refit=True, verbose=2)\n",
    "grid_SVMTaskB.fit(X_train, y_train)"
   ]
  },
  {
   "cell_type": "markdown",
   "id": "24391eca",
   "metadata": {},
   "source": [
    "### Check best hyperparameters from Gridsearch"
   ]
  },
  {
   "cell_type": "code",
   "execution_count": 15,
   "id": "162a8bf0",
   "metadata": {},
   "outputs": [
    {
     "name": "stdout",
     "output_type": "stream",
     "text": [
      "Best hyperparameter by GridsearchCV(): {'C': 20, 'kernel': 'rbf'} \n",
      "\n",
      "Best score by using this hyperparameter: 0.9326 \n",
      "\n",
      "\n",
      "For parameter {'C': 0.1, 'kernel': 'poly'}: Mean score 0.6737 (with std 0.0187)\n",
      "\n",
      "For parameter {'C': 0.1, 'kernel': 'rbf'}: Mean score 0.7311 (with std 0.0129)\n",
      "\n",
      "For parameter {'C': 0.2, 'kernel': 'poly'}: Mean score 0.7926 (with std 0.0132)\n",
      "\n",
      "For parameter {'C': 0.2, 'kernel': 'rbf'}: Mean score 0.7922 (with std 0.0098)\n",
      "\n",
      "For parameter {'C': 1, 'kernel': 'poly'}: Mean score 0.9059 (with std 0.0052)\n",
      "\n",
      "For parameter {'C': 1, 'kernel': 'rbf'}: Mean score 0.8978 (with std 0.0106)\n",
      "\n",
      "For parameter {'C': 2, 'kernel': 'poly'}: Mean score 0.9204 (with std 0.0059)\n",
      "\n",
      "For parameter {'C': 2, 'kernel': 'rbf'}: Mean score 0.9252 (with std 0.0091)\n",
      "\n",
      "For parameter {'C': 10, 'kernel': 'poly'}: Mean score 0.9230 (with std 0.0092)\n",
      "\n",
      "For parameter {'C': 10, 'kernel': 'rbf'}: Mean score 0.9322 (with std 0.0091)\n",
      "\n",
      "For parameter {'C': 20, 'kernel': 'poly'}: Mean score 0.9237 (with std 0.0085)\n",
      "\n",
      "For parameter {'C': 20, 'kernel': 'rbf'}: Mean score 0.9326 (with std 0.0086)\n",
      "\n"
     ]
    }
   ],
   "source": [
    "# Print best hyperparameters and score of grid model\n",
    "print('Best hyperparameter by GridsearchCV():', grid_SVMTaskB.best_params_, '\\n')\n",
    "print('Best score by using this hyperparameter: %.4f' %(grid_SVMTaskB.best_score_), '\\n\\n')\n",
    "\n",
    "# Print mean, std of grid model\n",
    "means_grid = grid_SVMTaskB.cv_results_['mean_test_score']\n",
    "stds_grid = grid_SVMTaskB.cv_results_['std_test_score']\n",
    "params_grid = grid_SVMTaskB.cv_results_['params']\n",
    "    \n",
    "for mean, stdev, param in zip(means_grid, stds_grid, params_grid):\n",
    "    print('For parameter %r: Mean score %.4f (with std %.4f)\\n'% (param, mean, stdev))"
   ]
  },
  {
   "cell_type": "markdown",
   "id": "e7a04779",
   "metadata": {},
   "source": [
    "## 3. Model Evaluation\n",
    "**Evaluate the chosen model with best hyperparameter per test set by checking confusion matrix, classification report, accuracy score and cohen kappa score.**"
   ]
  },
  {
   "cell_type": "code",
   "execution_count": 16,
   "id": "17aa75a8",
   "metadata": {},
   "outputs": [
    {
     "name": "stdout",
     "output_type": "stream",
     "text": [
      "Confusion matrix: \n",
      " [[36  0  1  0]\n",
      " [ 2 39  2  0]\n",
      " [ 1  1 63  3]\n",
      " [ 0  0  0 52]] \n",
      "\n",
      "Accuracy on test set:  0.95 \n",
      "\n",
      "Classification report: \n",
      "               precision    recall  f1-score   support\n",
      "\n",
      "           0       0.92      0.97      0.95        37\n",
      "           1       0.97      0.91      0.94        43\n",
      "           2       0.95      0.93      0.94        68\n",
      "           3       0.95      1.00      0.97        52\n",
      "\n",
      "    accuracy                           0.95       200\n",
      "   macro avg       0.95      0.95      0.95       200\n",
      "weighted avg       0.95      0.95      0.95       200\n",
      " \n",
      "\n",
      "cohen_kappa score： 0.9321781003085896\n"
     ]
    }
   ],
   "source": [
    "# Get predictions from the chosen model with best hyperparameter.\n",
    "pred_grid_SVMTaskB = grid_SVMTaskB.predict(X_test)\n",
    "\n",
    "# Print performance of the chosen model with best hyperparameter: Confusion matrix, accuracy score and classification report.\n",
    "print('Confusion matrix: \\n', confusion_matrix(y_test, pred_grid_SVMTaskB), '\\n')\n",
    "print('Accuracy on test set: ', accuracy_score(y_test, pred_grid_SVMTaskB), '\\n')\n",
    "print('Classification report: \\n', classification_report(y_test, pred_grid_SVMTaskB), '\\n')\n",
    "print('cohen_kappa score：',cohen_kappa_score(y_test, pred_grid_SVMTaskB))"
   ]
  },
  {
   "cell_type": "markdown",
   "id": "71410157",
   "metadata": {},
   "source": [
    "## 3. Save model"
   ]
  },
  {
   "cell_type": "code",
   "execution_count": 94,
   "id": "f6c3bc52",
   "metadata": {},
   "outputs": [],
   "source": [
    "# Save the chosen model with best hyperparameter with help of pickle.\n",
    "with open('Model/SVMTaskB.pickle', 'wb') as handle:\n",
    "    pickle.dump(grid_SVMTaskB, handle)"
   ]
  },
  {
   "cell_type": "code",
   "execution_count": null,
   "id": "e07bf497",
   "metadata": {},
   "outputs": [],
   "source": []
  }
 ],
 "metadata": {
  "kernelspec": {
   "display_name": "Python 3 (ipykernel)",
   "language": "python",
   "name": "python3"
  },
  "language_info": {
   "codemirror_mode": {
    "name": "ipython",
    "version": 3
   },
   "file_extension": ".py",
   "mimetype": "text/x-python",
   "name": "python",
   "nbconvert_exporter": "python",
   "pygments_lexer": "ipython3",
   "version": "3.7.11"
  }
 },
 "nbformat": 4,
 "nbformat_minor": 5
}
