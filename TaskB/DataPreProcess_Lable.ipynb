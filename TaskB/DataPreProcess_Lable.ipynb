{
 "cells": [
  {
   "cell_type": "markdown",
   "id": "314c9823",
   "metadata": {},
   "source": [
    "# Task B: Label Preprocessing"
   ]
  },
  {
   "cell_type": "markdown",
   "id": "20e71f81",
   "metadata": {},
   "source": [
    "## 1. Preprocess the label file of MRI dataset"
   ]
  },
  {
   "cell_type": "code",
   "execution_count": 1,
   "id": "288613e0",
   "metadata": {},
   "outputs": [],
   "source": [
    "# Import necessary libraries\n",
    "import pickle\n",
    "import numpy as np\n",
    "import pandas as pd"
   ]
  },
  {
   "cell_type": "code",
   "execution_count": 2,
   "id": "82e4d8ca",
   "metadata": {},
   "outputs": [
    {
     "name": "stdout",
     "output_type": "stream",
     "text": [
      "<class 'pandas.core.frame.DataFrame'>\n",
      "RangeIndex: 3000 entries, 0 to 2999\n",
      "Data columns (total 2 columns):\n",
      " #   Column     Non-Null Count  Dtype \n",
      "---  ------     --------------  ----- \n",
      " 0   file_name  3000 non-null   object\n",
      " 1   label      3000 non-null   object\n",
      "dtypes: object(2)\n",
      "memory usage: 47.0+ KB\n",
      "None \n",
      "\n",
      "        file_name             label\n",
      "0  IMAGE_0000.jpg  meningioma_tumor\n",
      "1  IMAGE_0001.jpg          no_tumor\n",
      "2  IMAGE_0002.jpg  meningioma_tumor\n",
      "3  IMAGE_0003.jpg      glioma_tumor\n",
      "4  IMAGE_0004.jpg  meningioma_tumor\n"
     ]
    }
   ],
   "source": [
    "# Read label (.csv file) of dataset.\n",
    "label_csv = pd.read_csv('.\\dataset\\label.csv')\n",
    "\n",
    "# Print basic information of label, notice that it contains 4 classes based on tumor type. \n",
    "print(label_csv.info(), '\\n')\n",
    "print(label_csv.head())"
   ]
  },
  {
   "cell_type": "code",
   "execution_count": 3,
   "id": "69d77e65",
   "metadata": {},
   "outputs": [
    {
     "name": "stderr",
     "output_type": "stream",
     "text": [
      "C:\\Users\\16967\\.conda\\envs\\AMLS_Lab\\lib\\site-packages\\ipykernel_launcher.py:3: SettingWithCopyWarning: \n",
      "A value is trying to be set on a copy of a slice from a DataFrame\n",
      "\n",
      "See the caveats in the documentation: https://pandas.pydata.org/pandas-docs/stable/user_guide/indexing.html#returning-a-view-versus-a-copy\n",
      "  This is separate from the ipykernel package so we can avoid doing imports until\n",
      "C:\\Users\\16967\\.conda\\envs\\AMLS_Lab\\lib\\site-packages\\ipykernel_launcher.py:4: SettingWithCopyWarning: \n",
      "A value is trying to be set on a copy of a slice from a DataFrame\n",
      "\n",
      "See the caveats in the documentation: https://pandas.pydata.org/pandas-docs/stable/user_guide/indexing.html#returning-a-view-versus-a-copy\n",
      "  after removing the cwd from sys.path.\n",
      "C:\\Users\\16967\\.conda\\envs\\AMLS_Lab\\lib\\site-packages\\ipykernel_launcher.py:5: SettingWithCopyWarning: \n",
      "A value is trying to be set on a copy of a slice from a DataFrame\n",
      "\n",
      "See the caveats in the documentation: https://pandas.pydata.org/pandas-docs/stable/user_guide/indexing.html#returning-a-view-versus-a-copy\n",
      "  \"\"\"\n"
     ]
    },
    {
     "data": {
      "text/html": [
       "<div>\n",
       "<style scoped>\n",
       "    .dataframe tbody tr th:only-of-type {\n",
       "        vertical-align: middle;\n",
       "    }\n",
       "\n",
       "    .dataframe tbody tr th {\n",
       "        vertical-align: top;\n",
       "    }\n",
       "\n",
       "    .dataframe thead th {\n",
       "        text-align: right;\n",
       "    }\n",
       "</style>\n",
       "<table border=\"1\" class=\"dataframe\">\n",
       "  <thead>\n",
       "    <tr style=\"text-align: right;\">\n",
       "      <th></th>\n",
       "      <th>file_name</th>\n",
       "      <th>label</th>\n",
       "      <th>new</th>\n",
       "    </tr>\n",
       "  </thead>\n",
       "  <tbody>\n",
       "    <tr>\n",
       "      <th>0</th>\n",
       "      <td>IMAGE_0000.jpg</td>\n",
       "      <td>meningioma_tumor</td>\n",
       "      <td>2</td>\n",
       "    </tr>\n",
       "    <tr>\n",
       "      <th>1</th>\n",
       "      <td>IMAGE_0001.jpg</td>\n",
       "      <td>no_tumor</td>\n",
       "      <td>0</td>\n",
       "    </tr>\n",
       "    <tr>\n",
       "      <th>2</th>\n",
       "      <td>IMAGE_0002.jpg</td>\n",
       "      <td>meningioma_tumor</td>\n",
       "      <td>2</td>\n",
       "    </tr>\n",
       "    <tr>\n",
       "      <th>3</th>\n",
       "      <td>IMAGE_0003.jpg</td>\n",
       "      <td>glioma_tumor</td>\n",
       "      <td>1</td>\n",
       "    </tr>\n",
       "    <tr>\n",
       "      <th>4</th>\n",
       "      <td>IMAGE_0004.jpg</td>\n",
       "      <td>meningioma_tumor</td>\n",
       "      <td>2</td>\n",
       "    </tr>\n",
       "  </tbody>\n",
       "</table>\n",
       "</div>"
      ],
      "text/plain": [
       "        file_name             label  new\n",
       "0  IMAGE_0000.jpg  meningioma_tumor    2\n",
       "1  IMAGE_0001.jpg          no_tumor    0\n",
       "2  IMAGE_0002.jpg  meningioma_tumor    2\n",
       "3  IMAGE_0003.jpg      glioma_tumor    1\n",
       "4  IMAGE_0004.jpg  meningioma_tumor    2"
      ]
     },
     "execution_count": 3,
     "metadata": {},
     "output_type": "execute_result"
    }
   ],
   "source": [
    "# For binary task classification, we simply use \"0\" and \"1\" to indicate and identify whether there is a tumor in the MRI images. \n",
    "label_csv['new'] = 0\n",
    "label_csv['new'][label_csv['label']=='glioma_tumor'] = 1\n",
    "label_csv['new'][label_csv['label']=='meningioma_tumor'] = 2\n",
    "label_csv['new'][label_csv['label']=='pituitary_tumor'] = 3\n",
    "\n",
    "# Check result.\n",
    "label_csv.head()"
   ]
  },
  {
   "cell_type": "code",
   "execution_count": 4,
   "id": "6b033035",
   "metadata": {},
   "outputs": [
    {
     "data": {
      "text/plain": [
       "((3000,), dtype('uint8'))"
      ]
     },
     "execution_count": 4,
     "metadata": {},
     "output_type": "execute_result"
    }
   ],
   "source": [
    "# Transfer label into array dataformat.\n",
    "label_TaskB = np.array(label_csv['new']).astype('uint8')\n",
    "\n",
    "# Check result.\n",
    "label_TaskB.shape, label_TaskB.dtype"
   ]
  },
  {
   "cell_type": "code",
   "execution_count": 5,
   "id": "be4c7968",
   "metadata": {},
   "outputs": [],
   "source": [
    "# Save label file with help of pickle.\n",
    "label_AfterProcess = label_TaskB.copy()\n",
    "\n",
    "with open('DataAfterProcess/label_AfterProcess.pickle', 'wb') as handle:\n",
    "    pickle.dump(label_AfterProcess, handle)"
   ]
  },
  {
   "cell_type": "code",
   "execution_count": null,
   "id": "f368bfe3",
   "metadata": {},
   "outputs": [],
   "source": []
  }
 ],
 "metadata": {
  "kernelspec": {
   "display_name": "Python 3 (ipykernel)",
   "language": "python",
   "name": "python3"
  },
  "language_info": {
   "codemirror_mode": {
    "name": "ipython",
    "version": 3
   },
   "file_extension": ".py",
   "mimetype": "text/x-python",
   "name": "python",
   "nbconvert_exporter": "python",
   "pygments_lexer": "ipython3",
   "version": "3.7.11"
  }
 },
 "nbformat": 4,
 "nbformat_minor": 5
}
