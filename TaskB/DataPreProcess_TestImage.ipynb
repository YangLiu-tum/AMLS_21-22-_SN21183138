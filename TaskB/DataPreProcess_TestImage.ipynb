{
 "cells": [
  {
   "cell_type": "markdown",
   "id": "314c9823",
   "metadata": {},
   "source": [
    "# Task B: Test Image Preprocessing"
   ]
  },
  {
   "cell_type": "markdown",
   "id": "20e71f81",
   "metadata": {},
   "source": [
    "## 1. Preprocess MRI test images with HOG descriptor"
   ]
  },
  {
   "cell_type": "code",
   "execution_count": 1,
   "id": "288613e0",
   "metadata": {},
   "outputs": [],
   "source": [
    "# Import necessary libraries\n",
    "import pickle\n",
    "import cv2\n",
    "import numpy as np\n",
    "import pandas as pd\n",
    "\n",
    "from glob import glob"
   ]
  },
  {
   "cell_type": "code",
   "execution_count": 2,
   "id": "18e23a01",
   "metadata": {},
   "outputs": [],
   "source": [
    "# Read 3000 512x512 pixel gray-scale MRI images\n",
    "images = [cv2.imread(image, cv2.IMREAD_GRAYSCALE) \n",
    "          for image in glob('test/image/*.jpg')]\n",
    "\n",
    "# Median filter is used to remove noise from the MRI images. \n",
    "images_blur = [cv2.medianBlur(images[i], 5)\n",
    "               for i in range(0, len(images))]\n",
    "\n",
    "# Resize images into 128*128 pixel\n",
    "resize = 128\n",
    "images_resized = [cv2.resize(images_blur[i], (resize,resize))\n",
    "                  for i in range(0, len(images))]"
   ]
  },
  {
   "cell_type": "code",
   "execution_count": 3,
   "id": "ad43e697",
   "metadata": {},
   "outputs": [
    {
     "name": "stdout",
     "output_type": "stream",
     "text": [
      "(200, 34020)\n"
     ]
    }
   ],
   "source": [
    "# HOG descriptor is used to extract feature vector of images. \n",
    "hog = cv2.HOGDescriptor()   \n",
    "images_hog = [hog.compute(images_resized[i])\n",
    "              for i in range(0, len(images))]\n",
    "\n",
    "# Transfer images into array dataformat.\n",
    "images_TaskB = np.array(images_hog)\n",
    "images_TaskB = images_TaskB.reshape(200, images_TaskB.shape[1])\n",
    "\n",
    "# Check result.\n",
    "print(images_TaskB.shape)"
   ]
  },
  {
   "cell_type": "markdown",
   "id": "3236df5a",
   "metadata": {},
   "source": [
    "## 2. Implement PCA into test feature vector"
   ]
  },
  {
   "cell_type": "code",
   "execution_count": 4,
   "id": "9c76a45f",
   "metadata": {},
   "outputs": [],
   "source": [
    "# Import necessary libraries\n",
    "import pickle"
   ]
  },
  {
   "cell_type": "code",
   "execution_count": 5,
   "id": "19cf0528",
   "metadata": {},
   "outputs": [],
   "source": [
    "# Load PCA model trained with trained with 3000 HOG feature vectors.\n",
    "with open('Model/DataProcess_PCA.pickle', 'rb') as handle:\n",
    "    pca_TaskB = pickle.load(handle)\n",
    "    \n",
    "# Implement PCA model into test HOG feature vector to reduce the dimension\n",
    "images_PCA = pca_TaskB.transform(images_TaskB)"
   ]
  },
  {
   "cell_type": "markdown",
   "id": "30ff5c17",
   "metadata": {},
   "source": [
    "## 4. Save preprocessed data"
   ]
  },
  {
   "cell_type": "code",
   "execution_count": 6,
   "id": "d4ddce38",
   "metadata": {},
   "outputs": [
    {
     "data": {
      "text/plain": [
       "(200, 400)"
      ]
     },
     "execution_count": 6,
     "metadata": {},
     "output_type": "execute_result"
    }
   ],
   "source": [
    "# Generate new data array of preprocessed data.\n",
    "images_AfterProcess = images_PCA.copy()\n",
    "\n",
    "# Check preprocessed data.\n",
    "images_AfterProcess.shape"
   ]
  },
  {
   "cell_type": "code",
   "execution_count": 7,
   "id": "30cbb5b4",
   "metadata": {},
   "outputs": [],
   "source": [
    "# Save preprocessed test data with help of pickle.\n",
    "with open('DataAfterProcess/test_images_AfterProcess.pickle', 'wb') as handle:\n",
    "    pickle.dump(images_AfterProcess, handle)"
   ]
  },
  {
   "cell_type": "code",
   "execution_count": null,
   "id": "f368bfe3",
   "metadata": {},
   "outputs": [],
   "source": []
  }
 ],
 "metadata": {
  "kernelspec": {
   "display_name": "Python 3 (ipykernel)",
   "language": "python",
   "name": "python3"
  },
  "language_info": {
   "codemirror_mode": {
    "name": "ipython",
    "version": 3
   },
   "file_extension": ".py",
   "mimetype": "text/x-python",
   "name": "python",
   "nbconvert_exporter": "python",
   "pygments_lexer": "ipython3",
   "version": "3.7.11"
  }
 },
 "nbformat": 4,
 "nbformat_minor": 5
}
