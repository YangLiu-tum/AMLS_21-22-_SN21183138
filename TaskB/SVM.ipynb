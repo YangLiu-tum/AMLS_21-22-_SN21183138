{
 "cells": [
  {
   "cell_type": "markdown",
   "id": "f7cf9748",
   "metadata": {},
   "source": [
    "# Task B: SVM"
   ]
  },
  {
   "cell_type": "markdown",
   "id": "ad3dca4e",
   "metadata": {},
   "source": [
    "## 0. Load the preprocessed data\n",
    "**We will use the preprocessed dataset after PCA. It characterizes 2 different classes (tumor or not) based on 200 features.** "
   ]
  },
  {
   "cell_type": "code",
   "execution_count": 66,
   "id": "e4dffb7d",
   "metadata": {},
   "outputs": [],
   "source": [
    "# Import necessary libraries\n",
    "import pickle\n",
    "import numpy as np\n",
    "import pandas as pd"
   ]
  },
  {
   "cell_type": "code",
   "execution_count": 67,
   "id": "2ed198e3",
   "metadata": {},
   "outputs": [
    {
     "name": "stdout",
     "output_type": "stream",
     "text": [
      "(3000, 4096) (3000,)\n"
     ]
    }
   ],
   "source": [
    "# Load preprocessed data with help of pickle.\n",
    "with open('DataAfterProcess/images_AfterProcess.pickle', 'rb') as handle:\n",
    "    X = pickle.load(handle)\n",
    "    \n",
    "with open('DataAfterProcess/label_AfterProcess.pickle', 'rb') as handle:\n",
    "    y = pickle.load(handle)\n",
    "    \n",
    "# Check result.\n",
    "print(X.shape, y.shape) "
   ]
  },
  {
   "cell_type": "markdown",
   "id": "e9480dad",
   "metadata": {},
   "source": [
    "### Train Test Split\n",
    "\n",
    "**Split data into a training set (90%) and a test set (10%). Note that the test set here comes from the dataset.zip file, not the test.zip file.**"
   ]
  },
  {
   "cell_type": "code",
   "execution_count": 68,
   "id": "7474e4f9",
   "metadata": {},
   "outputs": [],
   "source": [
    "# Import necessary libraries\n",
    "from sklearn.model_selection import train_test_split"
   ]
  },
  {
   "cell_type": "code",
   "execution_count": 69,
   "id": "ad638729",
   "metadata": {},
   "outputs": [
    {
     "name": "stdout",
     "output_type": "stream",
     "text": [
      "(2700, 4096) (2700,) (300, 4096) (300,)\n",
      "train set: 0.9  | test set: 0.1\n"
     ]
    }
   ],
   "source": [
    "# Split data into a training set and a test set (90% training and 10% testing data).\n",
    "# Notice that all random state is chosen as 0 in this assignment to ensure reproducibility.\n",
    "X_train, X_test, y_train, y_test = train_test_split(X,y, \n",
    "                                                    test_size=0.1, random_state=0)\n",
    "\n",
    "# Check result.\n",
    "print(X_train.shape, y_train.shape, X_test.shape, y_test.shape) \n",
    "print('train set: {}  | test set: {}'.format(round(len(y_train)/len(X),3), \n",
    "                                             round(len(y_test)/len(X),3)))"
   ]
  },
  {
   "cell_type": "markdown",
   "id": "ffca63f4",
   "metadata": {},
   "source": [
    "## 1. Train a SVM model\n",
    "**Firstly, we train a SVM model without hyperparameter tuning in order to compare with model trained from GridsearchCV in next step.**"
   ]
  },
  {
   "cell_type": "code",
   "execution_count": 70,
   "id": "06a34291",
   "metadata": {},
   "outputs": [],
   "source": [
    "# Import necessary libraries\n",
    "from sklearn.svm import SVC"
   ]
  },
  {
   "cell_type": "code",
   "execution_count": 78,
   "id": "147533f9",
   "metadata": {},
   "outputs": [
    {
     "data": {
      "text/plain": [
       "SVC(C=1, random_state=0)"
      ]
     },
     "execution_count": 78,
     "metadata": {},
     "output_type": "execute_result"
    }
   ],
   "source": [
    "# Call the SVC() model from sklearn and fit the model to the training data.\n",
    "# Notice that all random state is chosen as 0 in this assignment to ensure reproducibility.\n",
    "svm = SVC(C=1, random_state=0)\n",
    "svm.fit(X_train, y_train)"
   ]
  },
  {
   "cell_type": "markdown",
   "id": "06e134e4",
   "metadata": {},
   "source": [
    "### Model Evaluation\n",
    "**Get predictions from the model, then create the confusion matrix, the classification report and check the accuracy score, cohen kappa score .**"
   ]
  },
  {
   "cell_type": "code",
   "execution_count": 79,
   "id": "d8b0af1d",
   "metadata": {},
   "outputs": [],
   "source": [
    "# Import necessary libraries\n",
    "from sklearn.metrics import confusion_matrix, classification_report, accuracy_score, cohen_kappa_score"
   ]
  },
  {
   "cell_type": "code",
   "execution_count": 80,
   "id": "13da4450",
   "metadata": {},
   "outputs": [
    {
     "name": "stdout",
     "output_type": "stream",
     "text": [
      "Confusion matrix: \n",
      " [[27  6 11  2]\n",
      " [ 3 67 17  4]\n",
      " [ 4 19 53  7]\n",
      " [ 0  1  0 79]] \n",
      "\n",
      "Accuracy on test set:  0.7533333333333333 \n",
      "\n",
      "Classification report: \n",
      "               precision    recall  f1-score   support\n",
      "\n",
      "           0       0.79      0.59      0.68        46\n",
      "           1       0.72      0.74      0.73        91\n",
      "           2       0.65      0.64      0.65        83\n",
      "           3       0.86      0.99      0.92        80\n",
      "\n",
      "    accuracy                           0.75       300\n",
      "   macro avg       0.76      0.74      0.74       300\n",
      "weighted avg       0.75      0.75      0.75       300\n",
      " \n",
      "\n",
      "cohen_kappa score： 0.6630748216724844\n"
     ]
    }
   ],
   "source": [
    "# Get predictions from the model.\n",
    "y_pred = svm.predict(X_test)\n",
    "\n",
    "# Print model performance: Confusion matrix, accuracy score and classification report.\n",
    "print('Confusion matrix: \\n', confusion_matrix(y_test, y_pred), '\\n')\n",
    "print('Accuracy on test set: ', accuracy_score(y_test, y_pred), '\\n')\n",
    "print('Classification report: \\n', classification_report(y_test, y_pred), '\\n') \n",
    "print('cohen_kappa score：',cohen_kappa_score(y_test, y_pred))"
   ]
  },
  {
   "cell_type": "markdown",
   "id": "ffabbb77",
   "metadata": {},
   "source": [
    "## 2. Hyperparameter tuning: GridsearchCV \n",
    "**Let's tune the hyper-parameters with help of GridsearchCV(). We tune kernel with different regularizarion parameter C.**"
   ]
  },
  {
   "cell_type": "code",
   "execution_count": 39,
   "id": "36143246",
   "metadata": {},
   "outputs": [],
   "source": [
    "# Import necessary libraries\n",
    "from sklearn.model_selection import GridSearchCV"
   ]
  },
  {
   "cell_type": "code",
   "execution_count": 44,
   "id": "cf98cdf9",
   "metadata": {},
   "outputs": [],
   "source": [
    "# Create a dictionary called param_grid and fill out some parameters for C and kernel.\n",
    "param_grid = {'C': [0.5,5,50],\n",
    "              'kernel': ['poly']}\n"
   ]
  },
  {
   "cell_type": "code",
   "execution_count": 45,
   "id": "dacf0702",
   "metadata": {},
   "outputs": [
    {
     "name": "stdout",
     "output_type": "stream",
     "text": [
      "Fitting 5 folds for each of 3 candidates, totalling 15 fits\n",
      "[CV] END .................................C=0.5, kernel=poly; total time=   0.5s\n",
      "[CV] END .................................C=0.5, kernel=poly; total time=   0.5s\n",
      "[CV] END .................................C=0.5, kernel=poly; total time=   0.5s\n",
      "[CV] END .................................C=0.5, kernel=poly; total time=   0.5s\n",
      "[CV] END .................................C=0.5, kernel=poly; total time=   0.4s\n",
      "[CV] END ...................................C=5, kernel=poly; total time=   0.5s\n",
      "[CV] END ...................................C=5, kernel=poly; total time=   0.5s\n",
      "[CV] END ...................................C=5, kernel=poly; total time=   0.5s\n",
      "[CV] END ...................................C=5, kernel=poly; total time=   0.5s\n",
      "[CV] END ...................................C=5, kernel=poly; total time=   0.6s\n",
      "[CV] END ..................................C=50, kernel=poly; total time=   0.6s\n",
      "[CV] END ..................................C=50, kernel=poly; total time=   0.5s\n",
      "[CV] END ..................................C=50, kernel=poly; total time=   0.5s\n",
      "[CV] END ..................................C=50, kernel=poly; total time=   0.5s\n",
      "[CV] END ..................................C=50, kernel=poly; total time=   0.5s\n"
     ]
    },
    {
     "data": {
      "text/plain": [
       "GridSearchCV(estimator=SVC(),\n",
       "             param_grid={'C': [0.5, 5, 50], 'kernel': ['poly']}, verbose=2)"
      ]
     },
     "execution_count": 45,
     "metadata": {},
     "output_type": "execute_result"
    }
   ],
   "source": [
    "# Create a GridSearchCV() object and fit it to the training data.\n",
    "grid_SVMTaskA = GridSearchCV(SVC(), param_grid=param_grid, refit=True, verbose=2)\n",
    "grid_SVMTaskA.fit(X_train, y_train)"
   ]
  },
  {
   "cell_type": "markdown",
   "id": "24391eca",
   "metadata": {},
   "source": [
    "### Check best hyperparameters"
   ]
  },
  {
   "cell_type": "code",
   "execution_count": 46,
   "id": "401502f8",
   "metadata": {},
   "outputs": [
    {
     "name": "stdout",
     "output_type": "stream",
     "text": [
      "{'C': 50, 'kernel': 'poly'}\n"
     ]
    }
   ],
   "source": [
    "# Print best hyperparameters of grid model\n",
    "print(grid_SVMTaskA.best_params_)"
   ]
  },
  {
   "cell_type": "markdown",
   "id": "e7a04779",
   "metadata": {},
   "source": [
    "### Model Evaluation\n",
    "**Get predictions from the grid model, then create the confusion matrix, the classification report and check the accuracy score, cohen kappa score.**"
   ]
  },
  {
   "cell_type": "code",
   "execution_count": 47,
   "id": "17aa75a8",
   "metadata": {},
   "outputs": [
    {
     "name": "stdout",
     "output_type": "stream",
     "text": [
      "Confusion matrix: \n",
      " [[32  4  8  2]\n",
      " [ 2 82  7  0]\n",
      " [ 3  7 70  3]\n",
      " [ 0  1  0 79]] \n",
      "\n",
      "Accuracy on test set:  0.8766666666666667 \n",
      "\n",
      "Classification report: \n",
      "               precision    recall  f1-score   support\n",
      "\n",
      "           0       0.86      0.70      0.77        46\n",
      "           1       0.87      0.90      0.89        91\n",
      "           2       0.82      0.84      0.83        83\n",
      "           3       0.94      0.99      0.96        80\n",
      "\n",
      "    accuracy                           0.88       300\n",
      "   macro avg       0.88      0.86      0.86       300\n",
      "weighted avg       0.88      0.88      0.87       300\n",
      " \n",
      "\n",
      "cohen_kappa score： 0.8317391502069154\n"
     ]
    }
   ],
   "source": [
    "# Get predictions from the grid model.\n",
    "pred_grid_SVMTaskA = grid_SVMTaskA.predict(X_test)\n",
    "\n",
    "# Print grid model performance: Confusion matrix, accuracy score and classification report.\n",
    "print('Confusion matrix: \\n', confusion_matrix(y_test, pred_grid_SVMTaskA), '\\n')\n",
    "print('Accuracy on test set: ', accuracy_score(y_test, pred_grid_SVMTaskA), '\\n')\n",
    "print('Classification report: \\n', classification_report(y_test, pred_grid_SVMTaskA), '\\n')\n",
    "print('cohen_kappa score：',cohen_kappa_score(y_test, pred_grid_SVMTaskA))"
   ]
  },
  {
   "cell_type": "markdown",
   "id": "71410157",
   "metadata": {},
   "source": [
    "## 3. Save model"
   ]
  },
  {
   "cell_type": "code",
   "execution_count": 14,
   "id": "f6c3bc52",
   "metadata": {},
   "outputs": [],
   "source": [
    "# Save trained model with help of pickle.\n",
    "with open('Model/SVMTaskA.pickle', 'wb') as handle:\n",
    "    pickle.dump(grid_SVMTaskA, handle)"
   ]
  },
  {
   "cell_type": "code",
   "execution_count": null,
   "id": "e07bf497",
   "metadata": {},
   "outputs": [],
   "source": []
  }
 ],
 "metadata": {
  "kernelspec": {
   "display_name": "Python 3 (ipykernel)",
   "language": "python",
   "name": "python3"
  },
  "language_info": {
   "codemirror_mode": {
    "name": "ipython",
    "version": 3
   },
   "file_extension": ".py",
   "mimetype": "text/x-python",
   "name": "python",
   "nbconvert_exporter": "python",
   "pygments_lexer": "ipython3",
   "version": "3.7.11"
  }
 },
 "nbformat": 4,
 "nbformat_minor": 5
}
