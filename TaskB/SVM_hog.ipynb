{
 "cells": [
  {
   "cell_type": "markdown",
   "id": "f7cf9748",
   "metadata": {},
   "source": [
    "# Task B: SVM with HOG features"
   ]
  },
  {
   "cell_type": "markdown",
   "id": "ad3dca4e",
   "metadata": {},
   "source": [
    "## 0. Load the preprocessed data\n",
    "**We will use the preprocessed dataset after image processing and PCA. It characterizes 4 different classes (tumor or not) based on 200 features.** "
   ]
  },
  {
   "cell_type": "code",
   "execution_count": 294,
   "id": "e4dffb7d",
   "metadata": {},
   "outputs": [],
   "source": [
    "# Import necessary libraries\n",
    "import pickle\n",
    "import numpy as np\n",
    "import pandas as pd"
   ]
  },
  {
   "cell_type": "code",
   "execution_count": 295,
   "id": "2ed198e3",
   "metadata": {},
   "outputs": [
    {
     "name": "stdout",
     "output_type": "stream",
     "text": [
      "(3000, 300) (3000,)\n"
     ]
    }
   ],
   "source": [
    "# Load preprocessed data with help of pickle.\n",
    "with open('DataAfterProcess/images_AfterProcess.pickle', 'rb') as handle:\n",
    "    X = pickle.load(handle)\n",
    "    \n",
    "with open('DataAfterProcess/label_AfterProcess.pickle', 'rb') as handle:\n",
    "    y = pickle.load(handle)\n",
    "    \n",
    "# Check result.\n",
    "print(X.shape, y.shape) "
   ]
  },
  {
   "cell_type": "markdown",
   "id": "6ab64221",
   "metadata": {},
   "source": [
    "### Train Test Split\n",
    "\n",
    "**Split data into a training set (90%) and a test set (10%). Note that the test set here comes from the dataset.zip file, not the test.zip file.**"
   ]
  },
  {
   "cell_type": "code",
   "execution_count": 296,
   "id": "7474e4f9",
   "metadata": {},
   "outputs": [],
   "source": [
    "# Import necessary libraries\n",
    "from sklearn.model_selection import train_test_split"
   ]
  },
  {
   "cell_type": "code",
   "execution_count": 297,
   "id": "ad638729",
   "metadata": {},
   "outputs": [
    {
     "name": "stdout",
     "output_type": "stream",
     "text": [
      "(2430, 300) (2430,) (270, 300) (270,) (300, 300) (300,)\n",
      "train set: 0.81 | val set: 0.09 | test set: 0.1\n"
     ]
    }
   ],
   "source": [
    "# Split data into a training set and a test set (90% training and 10% testing data).\n",
    "# Notice that all random state is chosen as fixed in this assignment to ensure reproducibility.\n",
    "X_train, X_test, y_train, y_test = train_test_split(X,y, \n",
    "                                                    test_size=0.1, random_state=3)\n",
    "\n",
    "# Split training set into a new training set and a validation set (90% training and 10% validation data).\n",
    "X_train_new, X_val, y_train_new, y_val = train_test_split(X_train,y_train, \n",
    "                                                          test_size=0.1, random_state=3)\n",
    "# Check result.\n",
    "print(X_train_new.shape, y_train_new.shape, X_val.shape, y_val.shape, X_test.shape, y_test.shape) \n",
    "print('train set: {} | val set: {} | test set: {}'.format(round(len(y_train_new)/len(X),3), \n",
    "                                                          round(len(y_val)/len(X),3),\n",
    "                                                          round(len(y_test)/len(X),3)))"
   ]
  },
  {
   "cell_type": "markdown",
   "id": "ffca63f4",
   "metadata": {},
   "source": [
    "## 1. Train a SVM model\n",
    "**Firstly, we train a SVM model without hyperparameter tuning in order to compare with model trained from GridsearchCV in next step.**"
   ]
  },
  {
   "cell_type": "code",
   "execution_count": 298,
   "id": "06a34291",
   "metadata": {},
   "outputs": [],
   "source": [
    "# Import necessary libraries\n",
    "from sklearn.svm import SVC"
   ]
  },
  {
   "cell_type": "code",
   "execution_count": 299,
   "id": "147533f9",
   "metadata": {},
   "outputs": [
    {
     "data": {
      "text/plain": [
       "SVC(decision_function_shape='ovo', random_state=0)"
      ]
     },
     "execution_count": 299,
     "metadata": {},
     "output_type": "execute_result"
    }
   ],
   "source": [
    "# Call the SVC() model from sklearn and fit the model to the training data.\n",
    "# Notice that all random state is chosen as fixed in this assignment to ensure reproducibility.\n",
    "svm = SVC(random_state=0, decision_function_shape='ovo')\n",
    "svm.fit(X_train_new, y_train_new)"
   ]
  },
  {
   "cell_type": "markdown",
   "id": "774d7fae",
   "metadata": {},
   "source": [
    "### Model validation\n",
    "**Evaluate the model per validation set by checking confusion matrix, classification report, accuracy score and cohen kappa score.**"
   ]
  },
  {
   "cell_type": "code",
   "execution_count": 300,
   "id": "d8b0af1d",
   "metadata": {},
   "outputs": [],
   "source": [
    "# Import necessary libraries\n",
    "from sklearn.metrics import confusion_matrix, classification_report, accuracy_score, cohen_kappa_score"
   ]
  },
  {
   "cell_type": "code",
   "execution_count": 301,
   "id": "13da4450",
   "metadata": {},
   "outputs": [
    {
     "name": "stdout",
     "output_type": "stream",
     "text": [
      "Confusion matrix: \n",
      " [[42  0  1  1]\n",
      " [ 5 73 16  0]\n",
      " [ 1  1 72  5]\n",
      " [ 0  0  1 82]] \n",
      "\n",
      "Accuracy on validation set:  0.8966666666666666 \n",
      "\n",
      "Classification report: \n",
      "               precision    recall  f1-score   support\n",
      "\n",
      "           0       0.88      0.95      0.91        44\n",
      "           1       0.99      0.78      0.87        94\n",
      "           2       0.80      0.91      0.85        79\n",
      "           3       0.93      0.99      0.96        83\n",
      "\n",
      "    accuracy                           0.90       300\n",
      "   macro avg       0.90      0.91      0.90       300\n",
      "weighted avg       0.91      0.90      0.90       300\n",
      " \n",
      "\n",
      "cohen_kappa score： 0.8601882197299979\n"
     ]
    }
   ],
   "source": [
    "# # Get predictions from the model.\n",
    "# y_pred = svm.predict(X_val)\n",
    "\n",
    "# # Print model performance: Confusion matrix, accuracy score, classification report and cohen kappa score.\n",
    "# print('Confusion matrix: \\n', confusion_matrix(y_val, y_pred), '\\n')\n",
    "# print('Accuracy on validation set: ', accuracy_score(y_val, y_pred), '\\n')\n",
    "# print('Classification report: \\n', classification_report(y_val, y_pred), '\\n') \n",
    "# print('cohen_kappa score：',cohen_kappa_score(y_val, y_pred))\n",
    "\n",
    "\n",
    "# Get predictions from the model.\n",
    "y_pred = svm.predict(X_test)\n",
    "\n",
    "# Print model performance: Confusion matrix, accuracy score, classification report and cohen kappa score.\n",
    "print('Confusion matrix: \\n', confusion_matrix(y_test, y_pred), '\\n')\n",
    "print('Accuracy on validation set: ', accuracy_score(y_test, y_pred), '\\n')\n",
    "print('Classification report: \\n', classification_report(y_test, y_pred), '\\n') \n",
    "print('cohen_kappa score：',cohen_kappa_score(y_test, y_pred))"
   ]
  },
  {
   "cell_type": "markdown",
   "id": "ffabbb77",
   "metadata": {},
   "source": [
    "## 2. Hyperparameter tuning: GridsearchCV \n",
    "**Let's tune the hyper-parameters of SVM with help of GridsearchCV(). We tune the kernel with different regularizarion parameter C here.**"
   ]
  },
  {
   "cell_type": "markdown",
   "id": "8afde97e",
   "metadata": {},
   "source": [
    "### Implement GrisearchCV"
   ]
  },
  {
   "cell_type": "code",
   "execution_count": 302,
   "id": "36143246",
   "metadata": {},
   "outputs": [],
   "source": [
    "# Import necessary libraries\n",
    "from sklearn.model_selection import GridSearchCV"
   ]
  },
  {
   "cell_type": "code",
   "execution_count": 303,
   "id": "cf98cdf9",
   "metadata": {},
   "outputs": [],
   "source": [
    "# Create a dictionary called param_grid and fill out some parameters for C and kernel.\n",
    "param_grid = {'C': [0.1,0.3,0.5,1,3,5,10,30,50],\n",
    "              'kernel': ['poly', 'rbf', 'sigmoid']}"
   ]
  },
  {
   "cell_type": "code",
   "execution_count": 304,
   "id": "dacf0702",
   "metadata": {},
   "outputs": [
    {
     "name": "stdout",
     "output_type": "stream",
     "text": [
      "Fitting 5 folds for each of 27 candidates, totalling 135 fits\n",
      "[CV] END .................................C=0.1, kernel=poly; total time=   0.6s\n",
      "[CV] END .................................C=0.1, kernel=poly; total time=   0.6s\n",
      "[CV] END .................................C=0.1, kernel=poly; total time=   0.5s\n",
      "[CV] END .................................C=0.1, kernel=poly; total time=   0.5s\n",
      "[CV] END .................................C=0.1, kernel=poly; total time=   0.7s\n",
      "[CV] END ..................................C=0.1, kernel=rbf; total time=   1.0s\n",
      "[CV] END ..................................C=0.1, kernel=rbf; total time=   0.9s\n",
      "[CV] END ..................................C=0.1, kernel=rbf; total time=   0.8s\n",
      "[CV] END ..................................C=0.1, kernel=rbf; total time=   0.7s\n",
      "[CV] END ..................................C=0.1, kernel=rbf; total time=   0.7s\n",
      "[CV] END ..............................C=0.1, kernel=sigmoid; total time=   0.5s\n",
      "[CV] END ..............................C=0.1, kernel=sigmoid; total time=   0.5s\n",
      "[CV] END ..............................C=0.1, kernel=sigmoid; total time=   0.5s\n",
      "[CV] END ..............................C=0.1, kernel=sigmoid; total time=   0.5s\n",
      "[CV] END ..............................C=0.1, kernel=sigmoid; total time=   0.5s\n",
      "[CV] END .................................C=0.3, kernel=poly; total time=   0.6s\n",
      "[CV] END .................................C=0.3, kernel=poly; total time=   0.6s\n",
      "[CV] END .................................C=0.3, kernel=poly; total time=   0.7s\n",
      "[CV] END .................................C=0.3, kernel=poly; total time=   0.5s\n",
      "[CV] END .................................C=0.3, kernel=poly; total time=   0.5s\n",
      "[CV] END ..................................C=0.3, kernel=rbf; total time=   0.6s\n",
      "[CV] END ..................................C=0.3, kernel=rbf; total time=   0.7s\n",
      "[CV] END ..................................C=0.3, kernel=rbf; total time=   0.6s\n",
      "[CV] END ..................................C=0.3, kernel=rbf; total time=   0.7s\n",
      "[CV] END ..................................C=0.3, kernel=rbf; total time=   0.7s\n",
      "[CV] END ..............................C=0.3, kernel=sigmoid; total time=   0.4s\n",
      "[CV] END ..............................C=0.3, kernel=sigmoid; total time=   0.4s\n",
      "[CV] END ..............................C=0.3, kernel=sigmoid; total time=   0.4s\n",
      "[CV] END ..............................C=0.3, kernel=sigmoid; total time=   0.4s\n",
      "[CV] END ..............................C=0.3, kernel=sigmoid; total time=   0.4s\n",
      "[CV] END .................................C=0.5, kernel=poly; total time=   0.5s\n",
      "[CV] END .................................C=0.5, kernel=poly; total time=   0.5s\n",
      "[CV] END .................................C=0.5, kernel=poly; total time=   0.5s\n",
      "[CV] END .................................C=0.5, kernel=poly; total time=   0.5s\n",
      "[CV] END .................................C=0.5, kernel=poly; total time=   0.5s\n",
      "[CV] END ..................................C=0.5, kernel=rbf; total time=   0.6s\n",
      "[CV] END ..................................C=0.5, kernel=rbf; total time=   0.5s\n",
      "[CV] END ..................................C=0.5, kernel=rbf; total time=   0.6s\n",
      "[CV] END ..................................C=0.5, kernel=rbf; total time=   0.5s\n",
      "[CV] END ..................................C=0.5, kernel=rbf; total time=   0.6s\n",
      "[CV] END ..............................C=0.5, kernel=sigmoid; total time=   0.4s\n",
      "[CV] END ..............................C=0.5, kernel=sigmoid; total time=   0.3s\n",
      "[CV] END ..............................C=0.5, kernel=sigmoid; total time=   0.4s\n",
      "[CV] END ..............................C=0.5, kernel=sigmoid; total time=   0.3s\n",
      "[CV] END ..............................C=0.5, kernel=sigmoid; total time=   0.3s\n",
      "[CV] END ...................................C=1, kernel=poly; total time=   0.4s\n",
      "[CV] END ...................................C=1, kernel=poly; total time=   0.5s\n",
      "[CV] END ...................................C=1, kernel=poly; total time=   0.4s\n",
      "[CV] END ...................................C=1, kernel=poly; total time=   0.4s\n",
      "[CV] END ...................................C=1, kernel=poly; total time=   0.5s\n",
      "[CV] END ....................................C=1, kernel=rbf; total time=   0.5s\n",
      "[CV] END ....................................C=1, kernel=rbf; total time=   0.5s\n",
      "[CV] END ....................................C=1, kernel=rbf; total time=   0.6s\n",
      "[CV] END ....................................C=1, kernel=rbf; total time=   0.5s\n",
      "[CV] END ....................................C=1, kernel=rbf; total time=   0.5s\n",
      "[CV] END ................................C=1, kernel=sigmoid; total time=   0.3s\n",
      "[CV] END ................................C=1, kernel=sigmoid; total time=   0.3s\n",
      "[CV] END ................................C=1, kernel=sigmoid; total time=   0.3s\n",
      "[CV] END ................................C=1, kernel=sigmoid; total time=   0.3s\n",
      "[CV] END ................................C=1, kernel=sigmoid; total time=   0.3s\n",
      "[CV] END ...................................C=3, kernel=poly; total time=   0.6s\n",
      "[CV] END ...................................C=3, kernel=poly; total time=   0.6s\n",
      "[CV] END ...................................C=3, kernel=poly; total time=   0.5s\n",
      "[CV] END ...................................C=3, kernel=poly; total time=   0.5s\n",
      "[CV] END ...................................C=3, kernel=poly; total time=   0.6s\n",
      "[CV] END ....................................C=3, kernel=rbf; total time=   0.5s\n",
      "[CV] END ....................................C=3, kernel=rbf; total time=   0.6s\n",
      "[CV] END ....................................C=3, kernel=rbf; total time=   0.5s\n",
      "[CV] END ....................................C=3, kernel=rbf; total time=   0.5s\n",
      "[CV] END ....................................C=3, kernel=rbf; total time=   0.6s\n",
      "[CV] END ................................C=3, kernel=sigmoid; total time=   0.3s\n",
      "[CV] END ................................C=3, kernel=sigmoid; total time=   0.3s\n",
      "[CV] END ................................C=3, kernel=sigmoid; total time=   0.3s\n",
      "[CV] END ................................C=3, kernel=sigmoid; total time=   0.3s\n",
      "[CV] END ................................C=3, kernel=sigmoid; total time=   0.3s\n",
      "[CV] END ...................................C=5, kernel=poly; total time=   0.6s\n",
      "[CV] END ...................................C=5, kernel=poly; total time=   0.6s\n",
      "[CV] END ...................................C=5, kernel=poly; total time=   0.6s\n",
      "[CV] END ...................................C=5, kernel=poly; total time=   0.6s\n",
      "[CV] END ...................................C=5, kernel=poly; total time=   0.6s\n",
      "[CV] END ....................................C=5, kernel=rbf; total time=   0.5s\n",
      "[CV] END ....................................C=5, kernel=rbf; total time=   0.6s\n",
      "[CV] END ....................................C=5, kernel=rbf; total time=   0.6s\n",
      "[CV] END ....................................C=5, kernel=rbf; total time=   0.6s\n",
      "[CV] END ....................................C=5, kernel=rbf; total time=   0.5s\n",
      "[CV] END ................................C=5, kernel=sigmoid; total time=   0.2s\n",
      "[CV] END ................................C=5, kernel=sigmoid; total time=   0.2s\n",
      "[CV] END ................................C=5, kernel=sigmoid; total time=   0.3s\n",
      "[CV] END ................................C=5, kernel=sigmoid; total time=   0.3s\n",
      "[CV] END ................................C=5, kernel=sigmoid; total time=   0.2s\n",
      "[CV] END ..................................C=10, kernel=poly; total time=   0.6s\n",
      "[CV] END ..................................C=10, kernel=poly; total time=   0.6s\n",
      "[CV] END ..................................C=10, kernel=poly; total time=   0.6s\n",
      "[CV] END ..................................C=10, kernel=poly; total time=   0.6s\n",
      "[CV] END ..................................C=10, kernel=poly; total time=   0.6s\n",
      "[CV] END ...................................C=10, kernel=rbf; total time=   0.6s\n",
      "[CV] END ...................................C=10, kernel=rbf; total time=   0.5s\n",
      "[CV] END ...................................C=10, kernel=rbf; total time=   0.6s\n",
      "[CV] END ...................................C=10, kernel=rbf; total time=   0.7s\n",
      "[CV] END ...................................C=10, kernel=rbf; total time=   0.7s\n",
      "[CV] END ...............................C=10, kernel=sigmoid; total time=   0.3s\n"
     ]
    },
    {
     "name": "stdout",
     "output_type": "stream",
     "text": [
      "[CV] END ...............................C=10, kernel=sigmoid; total time=   0.2s\n",
      "[CV] END ...............................C=10, kernel=sigmoid; total time=   0.3s\n",
      "[CV] END ...............................C=10, kernel=sigmoid; total time=   0.2s\n",
      "[CV] END ...............................C=10, kernel=sigmoid; total time=   0.2s\n",
      "[CV] END ..................................C=30, kernel=poly; total time=   0.6s\n",
      "[CV] END ..................................C=30, kernel=poly; total time=   0.6s\n",
      "[CV] END ..................................C=30, kernel=poly; total time=   0.6s\n",
      "[CV] END ..................................C=30, kernel=poly; total time=   0.5s\n",
      "[CV] END ..................................C=30, kernel=poly; total time=   0.6s\n",
      "[CV] END ...................................C=30, kernel=rbf; total time=   0.6s\n",
      "[CV] END ...................................C=30, kernel=rbf; total time=   0.6s\n",
      "[CV] END ...................................C=30, kernel=rbf; total time=   0.6s\n",
      "[CV] END ...................................C=30, kernel=rbf; total time=   0.6s\n",
      "[CV] END ...................................C=30, kernel=rbf; total time=   0.6s\n",
      "[CV] END ...............................C=30, kernel=sigmoid; total time=   0.3s\n",
      "[CV] END ...............................C=30, kernel=sigmoid; total time=   0.2s\n",
      "[CV] END ...............................C=30, kernel=sigmoid; total time=   0.2s\n",
      "[CV] END ...............................C=30, kernel=sigmoid; total time=   0.3s\n",
      "[CV] END ...............................C=30, kernel=sigmoid; total time=   0.2s\n",
      "[CV] END ..................................C=50, kernel=poly; total time=   0.6s\n",
      "[CV] END ..................................C=50, kernel=poly; total time=   0.6s\n",
      "[CV] END ..................................C=50, kernel=poly; total time=   0.6s\n",
      "[CV] END ..................................C=50, kernel=poly; total time=   0.7s\n",
      "[CV] END ..................................C=50, kernel=poly; total time=   0.6s\n",
      "[CV] END ...................................C=50, kernel=rbf; total time=   0.6s\n",
      "[CV] END ...................................C=50, kernel=rbf; total time=   0.6s\n",
      "[CV] END ...................................C=50, kernel=rbf; total time=   0.7s\n",
      "[CV] END ...................................C=50, kernel=rbf; total time=   0.6s\n",
      "[CV] END ...................................C=50, kernel=rbf; total time=   0.7s\n",
      "[CV] END ...............................C=50, kernel=sigmoid; total time=   0.2s\n",
      "[CV] END ...............................C=50, kernel=sigmoid; total time=   0.2s\n",
      "[CV] END ...............................C=50, kernel=sigmoid; total time=   0.2s\n",
      "[CV] END ...............................C=50, kernel=sigmoid; total time=   0.2s\n",
      "[CV] END ...............................C=50, kernel=sigmoid; total time=   0.2s\n"
     ]
    },
    {
     "data": {
      "text/plain": [
       "GridSearchCV(estimator=SVC(decision_function_shape='ovo'),\n",
       "             param_grid={'C': [0.1, 0.3, 0.5, 1, 3, 5, 10, 30, 50],\n",
       "                         'kernel': ['poly', 'rbf', 'sigmoid']},\n",
       "             verbose=2)"
      ]
     },
     "execution_count": 304,
     "metadata": {},
     "output_type": "execute_result"
    }
   ],
   "source": [
    "# Create a GridSearchCV() object and fit it to the training data.\n",
    "grid_SVMTaskB = GridSearchCV(SVC(decision_function_shape='ovo'), param_grid=param_grid, refit=True, verbose=2)\n",
    "grid_SVMTaskB.fit(X_train, y_train)"
   ]
  },
  {
   "cell_type": "markdown",
   "id": "24391eca",
   "metadata": {},
   "source": [
    "### Check best hyperparameters"
   ]
  },
  {
   "cell_type": "code",
   "execution_count": 305,
   "id": "162a8bf0",
   "metadata": {},
   "outputs": [
    {
     "name": "stdout",
     "output_type": "stream",
     "text": [
      "Best hyperparameter by GridsearchCV(): {'C': 30, 'kernel': 'rbf'} \n",
      "\n",
      "Best score by using this hyperparameter: 0.9337 \n",
      "\n",
      "\n",
      "For parameter {'C': 0.1, 'kernel': 'poly'}: Mean score 0.6867 (with std 0.0323)\n",
      "\n",
      "For parameter {'C': 0.1, 'kernel': 'rbf'}: Mean score 0.7411 (with std 0.0168)\n",
      "\n",
      "For parameter {'C': 0.1, 'kernel': 'sigmoid'}: Mean score 0.7263 (with std 0.0133)\n",
      "\n",
      "For parameter {'C': 0.3, 'kernel': 'poly'}: Mean score 0.8393 (with std 0.0117)\n",
      "\n",
      "For parameter {'C': 0.3, 'kernel': 'rbf'}: Mean score 0.8256 (with std 0.0175)\n",
      "\n",
      "For parameter {'C': 0.3, 'kernel': 'sigmoid'}: Mean score 0.7700 (with std 0.0079)\n",
      "\n",
      "For parameter {'C': 0.5, 'kernel': 'poly'}: Mean score 0.8681 (with std 0.0154)\n",
      "\n",
      "For parameter {'C': 0.5, 'kernel': 'rbf'}: Mean score 0.8507 (with std 0.0218)\n",
      "\n",
      "For parameter {'C': 0.5, 'kernel': 'sigmoid'}: Mean score 0.7800 (with std 0.0093)\n",
      "\n",
      "For parameter {'C': 1, 'kernel': 'poly'}: Mean score 0.9022 (with std 0.0146)\n",
      "\n",
      "For parameter {'C': 1, 'kernel': 'rbf'}: Mean score 0.8904 (with std 0.0125)\n",
      "\n",
      "For parameter {'C': 1, 'kernel': 'sigmoid'}: Mean score 0.7722 (with std 0.0069)\n",
      "\n",
      "For parameter {'C': 3, 'kernel': 'poly'}: Mean score 0.9233 (with std 0.0168)\n",
      "\n",
      "For parameter {'C': 3, 'kernel': 'rbf'}: Mean score 0.9289 (with std 0.0180)\n",
      "\n",
      "For parameter {'C': 3, 'kernel': 'sigmoid'}: Mean score 0.7474 (with std 0.0153)\n",
      "\n",
      "For parameter {'C': 5, 'kernel': 'poly'}: Mean score 0.9256 (with std 0.0141)\n",
      "\n",
      "For parameter {'C': 5, 'kernel': 'rbf'}: Mean score 0.9319 (with std 0.0165)\n",
      "\n",
      "For parameter {'C': 5, 'kernel': 'sigmoid'}: Mean score 0.7356 (with std 0.0202)\n",
      "\n",
      "For parameter {'C': 10, 'kernel': 'poly'}: Mean score 0.9259 (with std 0.0139)\n",
      "\n",
      "For parameter {'C': 10, 'kernel': 'rbf'}: Mean score 0.9333 (with std 0.0166)\n",
      "\n",
      "For parameter {'C': 10, 'kernel': 'sigmoid'}: Mean score 0.7063 (with std 0.0219)\n",
      "\n",
      "For parameter {'C': 30, 'kernel': 'poly'}: Mean score 0.9259 (with std 0.0139)\n",
      "\n",
      "For parameter {'C': 30, 'kernel': 'rbf'}: Mean score 0.9337 (with std 0.0154)\n",
      "\n",
      "For parameter {'C': 30, 'kernel': 'sigmoid'}: Mean score 0.6937 (with std 0.0134)\n",
      "\n",
      "For parameter {'C': 50, 'kernel': 'poly'}: Mean score 0.9259 (with std 0.0139)\n",
      "\n",
      "For parameter {'C': 50, 'kernel': 'rbf'}: Mean score 0.9333 (with std 0.0153)\n",
      "\n",
      "For parameter {'C': 50, 'kernel': 'sigmoid'}: Mean score 0.6963 (with std 0.0155)\n",
      "\n"
     ]
    }
   ],
   "source": [
    "# Print best hyperparameters and score of grid model\n",
    "print('Best hyperparameter by GridsearchCV():', grid_SVMTaskB.best_params_, '\\n')\n",
    "print('Best score by using this hyperparameter: %.4f' %(grid_SVMTaskB.best_score_), '\\n\\n')\n",
    "\n",
    "# Print mean, std of grid model\n",
    "means_grid = grid_SVMTaskB.cv_results_['mean_test_score']\n",
    "stds_grid = grid_SVMTaskB.cv_results_['std_test_score']\n",
    "params_grid = grid_SVMTaskB.cv_results_['params']\n",
    "    \n",
    "for mean, stdev, param in zip(means_grid, stds_grid, params_grid):\n",
    "    print('For parameter %r: Mean score %.4f (with std %.4f)\\n'% (param, mean, stdev))"
   ]
  },
  {
   "cell_type": "markdown",
   "id": "e7a04779",
   "metadata": {},
   "source": [
    "## 3. Model Evaluation\n",
    "**Evaluate the model per test set by checking confusion matrix, classification report, accuracy score and cohen kappa score.**"
   ]
  },
  {
   "cell_type": "code",
   "execution_count": 306,
   "id": "17aa75a8",
   "metadata": {},
   "outputs": [
    {
     "name": "stdout",
     "output_type": "stream",
     "text": [
      "Confusion matrix: \n",
      " [[44  0  0  0]\n",
      " [ 1 86  7  0]\n",
      " [ 2  0 74  3]\n",
      " [ 0  0  0 83]] \n",
      "\n",
      "Accuracy on test set:  0.9566666666666667 \n",
      "\n",
      "Classification report: \n",
      "               precision    recall  f1-score   support\n",
      "\n",
      "           0       0.94      1.00      0.97        44\n",
      "           1       1.00      0.91      0.96        94\n",
      "           2       0.91      0.94      0.92        79\n",
      "           3       0.97      1.00      0.98        83\n",
      "\n",
      "    accuracy                           0.96       300\n",
      "   macro avg       0.95      0.96      0.96       300\n",
      "weighted avg       0.96      0.96      0.96       300\n",
      " \n",
      "\n",
      "cohen_kappa score： 0.9411862285292033\n"
     ]
    }
   ],
   "source": [
    "# Get predictions from the grid model.\n",
    "pred_grid_SVMTaskB = grid_SVMTaskB.predict(X_test)\n",
    "\n",
    "# Print grid model performance: Confusion matrix, accuracy score and classification report.\n",
    "print('Confusion matrix: \\n', confusion_matrix(y_test, pred_grid_SVMTaskB), '\\n')\n",
    "print('Accuracy on test set: ', accuracy_score(y_test, pred_grid_SVMTaskB), '\\n')\n",
    "print('Classification report: \\n', classification_report(y_test, pred_grid_SVMTaskB), '\\n')\n",
    "print('cohen_kappa score：',cohen_kappa_score(y_test, pred_grid_SVMTaskB))"
   ]
  },
  {
   "cell_type": "markdown",
   "id": "71410157",
   "metadata": {},
   "source": [
    "## 3. Save model"
   ]
  },
  {
   "cell_type": "code",
   "execution_count": 307,
   "id": "f6c3bc52",
   "metadata": {},
   "outputs": [],
   "source": [
    "# Save trained model with help of pickle.\n",
    "with open('Model/SVMTaskB.pickle', 'wb') as handle:\n",
    "    pickle.dump(grid_SVMTaskB, handle)"
   ]
  },
  {
   "cell_type": "code",
   "execution_count": null,
   "id": "e07bf497",
   "metadata": {},
   "outputs": [],
   "source": []
  }
 ],
 "metadata": {
  "kernelspec": {
   "display_name": "Python 3 (ipykernel)",
   "language": "python",
   "name": "python3"
  },
  "language_info": {
   "codemirror_mode": {
    "name": "ipython",
    "version": 3
   },
   "file_extension": ".py",
   "mimetype": "text/x-python",
   "name": "python",
   "nbconvert_exporter": "python",
   "pygments_lexer": "ipython3",
   "version": "3.7.11"
  }
 },
 "nbformat": 4,
 "nbformat_minor": 5
}
