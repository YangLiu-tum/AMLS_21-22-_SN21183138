{
 "cells": [
  {
   "cell_type": "markdown",
   "id": "314c9823",
   "metadata": {},
   "source": [
    "# Task A: Test Data Preprocessing"
   ]
  },
  {
   "cell_type": "markdown",
   "id": "20e71f81",
   "metadata": {},
   "source": [
    "## 1. Preprocess the label file of test data"
   ]
  },
  {
   "cell_type": "code",
   "execution_count": 10,
   "id": "288613e0",
   "metadata": {},
   "outputs": [],
   "source": [
    "# Import necessary libraries\n",
    "import numpy as np\n",
    "import pandas as pd"
   ]
  },
  {
   "cell_type": "code",
   "execution_count": 11,
   "id": "82e4d8ca",
   "metadata": {},
   "outputs": [
    {
     "name": "stdout",
     "output_type": "stream",
     "text": [
      "<class 'pandas.core.frame.DataFrame'>\n",
      "RangeIndex: 200 entries, 0 to 199\n",
      "Data columns (total 2 columns):\n",
      " #   Column     Non-Null Count  Dtype \n",
      "---  ------     --------------  ----- \n",
      " 0   file_name  200 non-null    object\n",
      " 1   label      200 non-null    object\n",
      "dtypes: object(2)\n",
      "memory usage: 3.2+ KB\n",
      "None \n",
      "\n",
      "        file_name             label\n",
      "0  IMAGE_0000.jpg  meningioma_tumor\n",
      "1  IMAGE_0001.jpg  meningioma_tumor\n",
      "2  IMAGE_0002.jpg      glioma_tumor\n",
      "3  IMAGE_0003.jpg   pituitary_tumor\n",
      "4  IMAGE_0004.jpg      glioma_tumor\n"
     ]
    }
   ],
   "source": [
    "# Read label (.csv file) of dataset.\n",
    "label_csv = pd.read_csv('.\\\\test\\label.csv')\n",
    "\n",
    "# Print basic information of label, notice that it contains 4 classes based on tumor type. \n",
    "print(label_csv.info(), '\\n')\n",
    "print(label_csv.head())"
   ]
  },
  {
   "cell_type": "code",
   "execution_count": 12,
   "id": "69d77e65",
   "metadata": {},
   "outputs": [
    {
     "name": "stderr",
     "output_type": "stream",
     "text": [
      "C:\\Users\\16967\\.conda\\envs\\AMLS_Lab\\lib\\site-packages\\ipykernel_launcher.py:3: SettingWithCopyWarning: \n",
      "A value is trying to be set on a copy of a slice from a DataFrame\n",
      "\n",
      "See the caveats in the documentation: https://pandas.pydata.org/pandas-docs/stable/user_guide/indexing.html#returning-a-view-versus-a-copy\n",
      "  This is separate from the ipykernel package so we can avoid doing imports until\n"
     ]
    },
    {
     "data": {
      "text/html": [
       "<div>\n",
       "<style scoped>\n",
       "    .dataframe tbody tr th:only-of-type {\n",
       "        vertical-align: middle;\n",
       "    }\n",
       "\n",
       "    .dataframe tbody tr th {\n",
       "        vertical-align: top;\n",
       "    }\n",
       "\n",
       "    .dataframe thead th {\n",
       "        text-align: right;\n",
       "    }\n",
       "</style>\n",
       "<table border=\"1\" class=\"dataframe\">\n",
       "  <thead>\n",
       "    <tr style=\"text-align: right;\">\n",
       "      <th></th>\n",
       "      <th>file_name</th>\n",
       "      <th>label</th>\n",
       "      <th>new</th>\n",
       "    </tr>\n",
       "  </thead>\n",
       "  <tbody>\n",
       "    <tr>\n",
       "      <th>0</th>\n",
       "      <td>IMAGE_0000.jpg</td>\n",
       "      <td>meningioma_tumor</td>\n",
       "      <td>1</td>\n",
       "    </tr>\n",
       "    <tr>\n",
       "      <th>1</th>\n",
       "      <td>IMAGE_0001.jpg</td>\n",
       "      <td>meningioma_tumor</td>\n",
       "      <td>1</td>\n",
       "    </tr>\n",
       "    <tr>\n",
       "      <th>2</th>\n",
       "      <td>IMAGE_0002.jpg</td>\n",
       "      <td>glioma_tumor</td>\n",
       "      <td>1</td>\n",
       "    </tr>\n",
       "    <tr>\n",
       "      <th>3</th>\n",
       "      <td>IMAGE_0003.jpg</td>\n",
       "      <td>pituitary_tumor</td>\n",
       "      <td>1</td>\n",
       "    </tr>\n",
       "    <tr>\n",
       "      <th>4</th>\n",
       "      <td>IMAGE_0004.jpg</td>\n",
       "      <td>glioma_tumor</td>\n",
       "      <td>1</td>\n",
       "    </tr>\n",
       "  </tbody>\n",
       "</table>\n",
       "</div>"
      ],
      "text/plain": [
       "        file_name             label  new\n",
       "0  IMAGE_0000.jpg  meningioma_tumor    1\n",
       "1  IMAGE_0001.jpg  meningioma_tumor    1\n",
       "2  IMAGE_0002.jpg      glioma_tumor    1\n",
       "3  IMAGE_0003.jpg   pituitary_tumor    1\n",
       "4  IMAGE_0004.jpg      glioma_tumor    1"
      ]
     },
     "execution_count": 12,
     "metadata": {},
     "output_type": "execute_result"
    }
   ],
   "source": [
    "# For binary task classification, we simply use \"0\" and \"1\" to indicate and identify whether there is a tumor in the MRI images. \n",
    "label_csv['new'] = 1\n",
    "label_csv['new'][label_csv['label']=='no_tumor'] = 0\n",
    "\n",
    "# Check result.\n",
    "label_csv.head()"
   ]
  },
  {
   "cell_type": "code",
   "execution_count": 13,
   "id": "6b033035",
   "metadata": {},
   "outputs": [
    {
     "data": {
      "text/plain": [
       "((200,), dtype('uint8'))"
      ]
     },
     "execution_count": 13,
     "metadata": {},
     "output_type": "execute_result"
    }
   ],
   "source": [
    "# Transfer label into array dataformat.\n",
    "label_TaskA = np.array(label_csv['new']).astype('uint8')\n",
    "\n",
    "# Check result.\n",
    "label_TaskA.shape, label_TaskA.dtype"
   ]
  },
  {
   "cell_type": "markdown",
   "id": "375166f5",
   "metadata": {},
   "source": [
    "## 2. Preprocess MRI test images"
   ]
  },
  {
   "cell_type": "code",
   "execution_count": 14,
   "id": "b6abac93",
   "metadata": {},
   "outputs": [],
   "source": [
    "# Import necessary libraries\n",
    "import cv2\n",
    "from glob import glob"
   ]
  },
  {
   "cell_type": "code",
   "execution_count": 15,
   "id": "18e23a01",
   "metadata": {},
   "outputs": [],
   "source": [
    "# Read 3000 512x512 pixel gray-scale MRI images\n",
    "images = [cv2.imread(image, cv2.IMREAD_GRAYSCALE) \n",
    "          for image in glob('test/image/*.jpg')]\n",
    "\n",
    "\n",
    "### Uncomment the following code to check MRI image.\n",
    "# cv2.imshow('MRI Image Test', images[0])\n",
    "# cv2.waitKey(0)\n",
    "# cv2.destroyAllWindows()"
   ]
  },
  {
   "cell_type": "code",
   "execution_count": 16,
   "id": "e462324d",
   "metadata": {},
   "outputs": [],
   "source": [
    "# Median filter is used to remove noise from the MRI images. \n",
    "images_blur = [cv2.medianBlur(images[i], 5)\n",
    "               for i in range(0, len(images))]\n",
    "\n",
    "\n",
    "### Uncomment the following code to check filtered MRI image.\n",
    "# cv2.imshow('MRI Image After Median Filter Test', images_blur[0])\n",
    "# cv2.waitKey(0)\n",
    "# cv2.destroyAllWindows()"
   ]
  },
  {
   "cell_type": "code",
   "execution_count": 17,
   "id": "30adcd5c",
   "metadata": {},
   "outputs": [],
   "source": [
    "# Enhance the contrast of the picture.\n",
    "alpha = 1.5 # Contrast control (1.0-3.0)\n",
    "beta = 0 # Brightness control (0-100)\n",
    "\n",
    "images_adjusted = [cv2.convertScaleAbs(images_blur[i], alpha=alpha, beta=beta)\n",
    "                   for i in range(0, len(images))]\n",
    "\n",
    "# Normalize pictures by using Maximum and minimum normalization.\n",
    "images_normlize = [cv2.normalize(images_adjusted[i], None, alpha=0,beta=1, norm_type=cv2.NORM_MINMAX, dtype=cv2.CV_32F) \n",
    "                   for i in range(0, len(images))]\n",
    "\n",
    "\n",
    "### Uncomment the following code to check image after enhancement.\n",
    "# cv2.imshow('MRI Image After Median Filter Test', images_adjusted[0])\n",
    "# cv2.waitKey(0)\n",
    "# cv2.destroyAllWindows()"
   ]
  },
  {
   "cell_type": "code",
   "execution_count": 18,
   "id": "ad43e697",
   "metadata": {},
   "outputs": [
    {
     "name": "stdout",
     "output_type": "stream",
     "text": [
      "200 images with 128x128 pixel. \n",
      "\n",
      "After vectorization\n",
      "200 vectorized images with 16384(512^2) pixel.\n"
     ]
    }
   ],
   "source": [
    "# Resize images into 128*128 pixel\n",
    "resize = 128\n",
    "images_resized = [cv2.resize(images_normlize[i], (resize,resize))\n",
    "                  for i in range(0, len(images))]\n",
    "\n",
    "# Transfer images into array dataformat.\n",
    "images_TaskA = np.array(images_resized)\n",
    "\n",
    "# Print image infotmation\n",
    "print('{} images with {}x{} pixel. \\n'.format(images_TaskA.shape[0], \n",
    "                                              images_TaskA.shape[1], \n",
    "                                              images_TaskA.shape[2]))\n",
    "\n",
    "# Vectorize images. \n",
    "images_TaskA = images_TaskA.reshape((200, resize*resize))\n",
    "\n",
    "# Print vectorized image information\n",
    "print('After vectorization')\n",
    "print('{} vectorized images with {}(512^2) pixel.'.format(images_TaskA.shape[0], \n",
    "                                                          images_TaskA.shape[1]))"
   ]
  },
  {
   "cell_type": "markdown",
   "id": "5b858ee3",
   "metadata": {},
   "source": [
    "## 3. Implement PCA into test data"
   ]
  },
  {
   "cell_type": "code",
   "execution_count": 22,
   "id": "61b668d6",
   "metadata": {},
   "outputs": [],
   "source": [
    "# Import necessary libraries\n",
    "import pickle"
   ]
  },
  {
   "cell_type": "code",
   "execution_count": 24,
   "id": "a7c5cba1",
   "metadata": {},
   "outputs": [],
   "source": [
    "# Load PCA model trained with dataset\n",
    "with open('Model/DataProcess_PCA.pickle', 'rb') as handle:\n",
    "    pca_TaskA = pickle.load(handle)\n",
    "\n",
    "# Implement PCA model into test images to reduce the data dimension\n",
    "images_PCA = pca_TaskA.transform(images_TaskA)"
   ]
  },
  {
   "cell_type": "markdown",
   "id": "30ff5c17",
   "metadata": {},
   "source": [
    "## 4. Save preprocessed test data"
   ]
  },
  {
   "cell_type": "code",
   "execution_count": 21,
   "id": "d4ddce38",
   "metadata": {},
   "outputs": [
    {
     "data": {
      "text/plain": [
       "((200, 200), (200,))"
      ]
     },
     "execution_count": 21,
     "metadata": {},
     "output_type": "execute_result"
    }
   ],
   "source": [
    "# Generate new data array of preprocessed data.\n",
    "images_AfterProcess = images_PCA.copy()\n",
    "label_AfterProcess = label_TaskA.copy()\n",
    "\n",
    "# Check preprocessed data.\n",
    "images_AfterProcess.shape, label_AfterProcess.shape"
   ]
  },
  {
   "cell_type": "code",
   "execution_count": 14,
   "id": "30cbb5b4",
   "metadata": {},
   "outputs": [],
   "source": [
    "# Save preprocessed test data with help of pickle.\n",
    "with open('DataAfterProcess/test_images_AfterProcess.pickle', 'wb') as handle:\n",
    "    pickle.dump(images_AfterProcess, handle)\n",
    "    \n",
    "with open('DataAfterProcess/test_label_AfterProcess.pickle', 'wb') as handle:\n",
    "    pickle.dump(label_AfterProcess, handle)"
   ]
  },
  {
   "cell_type": "code",
   "execution_count": null,
   "id": "f368bfe3",
   "metadata": {},
   "outputs": [],
   "source": []
  }
 ],
 "metadata": {
  "kernelspec": {
   "display_name": "Python 3 (ipykernel)",
   "language": "python",
   "name": "python3"
  },
  "language_info": {
   "codemirror_mode": {
    "name": "ipython",
    "version": 3
   },
   "file_extension": ".py",
   "mimetype": "text/x-python",
   "name": "python",
   "nbconvert_exporter": "python",
   "pygments_lexer": "ipython3",
   "version": "3.7.11"
  }
 },
 "nbformat": 4,
 "nbformat_minor": 5
}
