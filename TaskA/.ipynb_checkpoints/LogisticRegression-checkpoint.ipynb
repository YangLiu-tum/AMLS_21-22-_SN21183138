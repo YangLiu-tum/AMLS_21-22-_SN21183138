{
 "cells": [
  {
   "cell_type": "markdown",
   "id": "f7cf9748",
   "metadata": {},
   "source": [
    "# Task A: Logistic Regression"
   ]
  },
  {
   "cell_type": "markdown",
   "id": "ad3dca4e",
   "metadata": {},
   "source": [
    "## 0. Load the preprocessed data\n",
    "**We will use the preprocessed dataset after image processing and PCA. It characterizes 2 different classes (tumor or not) based on 200 features.** "
   ]
  },
  {
   "cell_type": "code",
   "execution_count": 1,
   "id": "e4dffb7d",
   "metadata": {},
   "outputs": [],
   "source": [
    "# Import necessary libraries\n",
    "import pickle\n",
    "import numpy as np\n",
    "import pandas as pd"
   ]
  },
  {
   "cell_type": "code",
   "execution_count": 2,
   "id": "2ed198e3",
   "metadata": {},
   "outputs": [
    {
     "name": "stdout",
     "output_type": "stream",
     "text": [
      "(3000, 200) (3000,)\n"
     ]
    }
   ],
   "source": [
    "# Load preprocessed data with help of pickle.\n",
    "with open('DataAfterProcess/images_AfterProcess.pickle', 'rb') as handle:\n",
    "    X = pickle.load(handle)\n",
    "    \n",
    "with open('DataAfterProcess/label_AfterProcess.pickle', 'rb') as handle:\n",
    "    y = pickle.load(handle)\n",
    "    \n",
    "# Check result.\n",
    "print(X.shape, y.shape) "
   ]
  },
  {
   "cell_type": "code",
   "execution_count": 3,
   "id": "606a5ca4",
   "metadata": {},
   "outputs": [
    {
     "name": "stdout",
     "output_type": "stream",
     "text": [
      "(200, 200) (200,)\n"
     ]
    }
   ],
   "source": [
    "# Load preprocessed data with help of pickle.\n",
    "with open('DataAfterProcess/test_images_AfterProcess.pickle', 'rb') as handle:\n",
    "    X_test = pickle.load(handle)\n",
    "    \n",
    "with open('DataAfterProcess/test_label_AfterProcess.pickle', 'rb') as handle:\n",
    "    y_test = pickle.load(handle)\n",
    "    \n",
    "# Check result.\n",
    "print(X_test.shape, y_test.shape) "
   ]
  },
  {
   "cell_type": "markdown",
   "id": "e9480dad",
   "metadata": {},
   "source": [
    "### Training-Validation-Test\n",
    "\n",
    "**Split data into training set (81%), validation set (9%) and test set (10%). Note that the test set here comes from the dataset.zip file, not the test.zip file.**"
   ]
  },
  {
   "cell_type": "code",
   "execution_count": 4,
   "id": "7474e4f9",
   "metadata": {},
   "outputs": [],
   "source": [
    "# Import necessary libraries\n",
    "from sklearn.model_selection import train_test_split"
   ]
  },
  {
   "cell_type": "code",
   "execution_count": 5,
   "id": "ad638729",
   "metadata": {},
   "outputs": [
    {
     "name": "stdout",
     "output_type": "stream",
     "text": [
      "(2100, 200) (2100,) (900, 200) (900,) (200, 200) (200,)\n",
      "train set: 0.7 | val set: 0.3 | test set: 0.067\n"
     ]
    }
   ],
   "source": [
    "# Split data into a training set and a test set (90% training and 10% testing data).\n",
    "# Notice that all random state is chosen as fixed in this assignment to ensure reproducibility.\n",
    "X_train, X_val, y_train, y_val = train_test_split(X,y, \n",
    "                                                  test_size=0.3, random_state=2)\n",
    "\n",
    "# # Split training set into a new training set and a validation set (90% training and 10% validation data).\n",
    "# X_train_new, X_val, y_train_new, y_val = train_test_split(X_train,y_train, \n",
    "#                                                           test_size=0.1, random_state=3)\n",
    "\n",
    "# Check result.\n",
    "print(X_train.shape, y_train.shape, X_val.shape, y_val.shape, X_test.shape, y_test.shape) \n",
    "print('train set: {} | val set: {} | test set: {}'.format(round(len(y_train)/len(X),3), \n",
    "                                                          round(len(y_val)/len(X),3),\n",
    "                                                          round(len(y_test)/len(X),3)))"
   ]
  },
  {
   "cell_type": "markdown",
   "id": "ffca63f4",
   "metadata": {},
   "source": [
    "## 1. Train a logistic regression model\n",
    "**Firstly, we train a logistic regression model without hyperparameter tuning in order to compare with model trained from GridsearchCV in next step.**"
   ]
  },
  {
   "cell_type": "code",
   "execution_count": 6,
   "id": "06a34291",
   "metadata": {},
   "outputs": [],
   "source": [
    "# Import necessary libraries\n",
    "from sklearn.linear_model import LogisticRegression"
   ]
  },
  {
   "cell_type": "code",
   "execution_count": 7,
   "id": "147533f9",
   "metadata": {},
   "outputs": [
    {
     "data": {
      "text/plain": [
       "LogisticRegression(C=0.001, max_iter=1000, random_state=0)"
      ]
     },
     "execution_count": 7,
     "metadata": {},
     "output_type": "execute_result"
    }
   ],
   "source": [
    "# Call the LogisticRegression() model from sklearn and fit the model to the training data.\n",
    "# Notice that all random state is chosen as fixed in this assignment to ensure reproducibility.\n",
    "logreg = LogisticRegression(solver='lbfgs', C=0.001, max_iter=1000, random_state=0)\n",
    "logreg.fit(X_train, y_train)"
   ]
  },
  {
   "cell_type": "markdown",
   "id": "06e134e4",
   "metadata": {},
   "source": [
    "### Model validation\n",
    "**Evaluate the model per validation set by checking confusion matrix, classification report, accuracy score and cohen kappa score.**"
   ]
  },
  {
   "cell_type": "code",
   "execution_count": 8,
   "id": "d8b0af1d",
   "metadata": {},
   "outputs": [],
   "source": [
    "# Import necessary libraries\n",
    "from sklearn.metrics import confusion_matrix, classification_report, accuracy_score, cohen_kappa_score"
   ]
  },
  {
   "cell_type": "code",
   "execution_count": 9,
   "id": "13da4450",
   "metadata": {},
   "outputs": [
    {
     "name": "stdout",
     "output_type": "stream",
     "text": [
      "Confusion matrix: \n",
      " [[ 24 122]\n",
      " [ 14 740]] \n",
      "\n",
      "Accuracy on validation set:  0.8488888888888889 \n",
      "\n",
      "Classification report: \n",
      "               precision    recall  f1-score   support\n",
      "\n",
      "           0       0.63      0.16      0.26       146\n",
      "           1       0.86      0.98      0.92       754\n",
      "\n",
      "    accuracy                           0.85       900\n",
      "   macro avg       0.75      0.57      0.59       900\n",
      "weighted avg       0.82      0.85      0.81       900\n",
      " \n",
      "\n",
      "cohen_kappa score： 0.20778750064723228\n"
     ]
    }
   ],
   "source": [
    "# Get predictions from the model.\n",
    "y_pred = logreg.predict(X_val)\n",
    "\n",
    "# Print model performance: Confusion matrix, accuracy score and classification report.\n",
    "print('Confusion matrix: \\n', confusion_matrix(y_val, y_pred), '\\n')\n",
    "print('Accuracy on validation set: ', accuracy_score(y_val, y_pred), '\\n')\n",
    "print('Classification report: \\n', classification_report(y_val, y_pred), '\\n') \n",
    "print('cohen_kappa score：',cohen_kappa_score(y_val, y_pred))"
   ]
  },
  {
   "cell_type": "markdown",
   "id": "ffabbb77",
   "metadata": {},
   "source": [
    "## 2. Hyperparameter tuning: GridsearchCV \n",
    "**Let's tune the hyper-parameters of logistic regression with help of GridsearchCV(). We tune the regularizarion parameter C and max iteration max_iter here.**"
   ]
  },
  {
   "cell_type": "markdown",
   "id": "d5338e37",
   "metadata": {},
   "source": [
    "### Implement GrisearchCV"
   ]
  },
  {
   "cell_type": "code",
   "execution_count": 10,
   "id": "36143246",
   "metadata": {},
   "outputs": [],
   "source": [
    "# Import necessary libraries\n",
    "from sklearn.model_selection import GridSearchCV"
   ]
  },
  {
   "cell_type": "code",
   "execution_count": 11,
   "id": "cf98cdf9",
   "metadata": {},
   "outputs": [],
   "source": [
    "# Create a dictionary called param_grid and fill out some parameters for C and max_iter.\n",
    "param_grid = {'C': [0.001,0.01,1,10,10],\n",
    "              'max_iter': [200,500,1000]}"
   ]
  },
  {
   "cell_type": "code",
   "execution_count": 12,
   "id": "dacf0702",
   "metadata": {},
   "outputs": [
    {
     "name": "stdout",
     "output_type": "stream",
     "text": [
      "Fitting 5 folds for each of 15 candidates, totalling 75 fits\n",
      "[CV] END ..............................C=0.001, max_iter=200; total time=   0.0s\n",
      "[CV] END ..............................C=0.001, max_iter=200; total time=   0.0s\n",
      "[CV] END ..............................C=0.001, max_iter=200; total time=   0.0s\n",
      "[CV] END ..............................C=0.001, max_iter=200; total time=   0.0s\n",
      "[CV] END ..............................C=0.001, max_iter=200; total time=   0.0s\n",
      "[CV] END ..............................C=0.001, max_iter=500; total time=   0.0s\n",
      "[CV] END ..............................C=0.001, max_iter=500; total time=   0.0s\n",
      "[CV] END ..............................C=0.001, max_iter=500; total time=   0.0s\n",
      "[CV] END ..............................C=0.001, max_iter=500; total time=   0.0s\n",
      "[CV] END ..............................C=0.001, max_iter=500; total time=   0.0s\n",
      "[CV] END .............................C=0.001, max_iter=1000; total time=   0.0s\n",
      "[CV] END .............................C=0.001, max_iter=1000; total time=   0.0s\n",
      "[CV] END .............................C=0.001, max_iter=1000; total time=   0.0s\n",
      "[CV] END .............................C=0.001, max_iter=1000; total time=   0.0s\n",
      "[CV] END .............................C=0.001, max_iter=1000; total time=   0.0s\n",
      "[CV] END ...............................C=0.01, max_iter=200; total time=   0.0s\n",
      "[CV] END ...............................C=0.01, max_iter=200; total time=   0.0s\n",
      "[CV] END ...............................C=0.01, max_iter=200; total time=   0.0s\n",
      "[CV] END ...............................C=0.01, max_iter=200; total time=   0.0s\n",
      "[CV] END ...............................C=0.01, max_iter=200; total time=   0.0s\n",
      "[CV] END ...............................C=0.01, max_iter=500; total time=   0.0s\n",
      "[CV] END ...............................C=0.01, max_iter=500; total time=   0.0s\n",
      "[CV] END ...............................C=0.01, max_iter=500; total time=   0.0s\n",
      "[CV] END ...............................C=0.01, max_iter=500; total time=   0.0s\n",
      "[CV] END ...............................C=0.01, max_iter=500; total time=   0.0s\n",
      "[CV] END ..............................C=0.01, max_iter=1000; total time=   0.0s\n",
      "[CV] END ..............................C=0.01, max_iter=1000; total time=   0.0s\n",
      "[CV] END ..............................C=0.01, max_iter=1000; total time=   0.0s\n",
      "[CV] END ..............................C=0.01, max_iter=1000; total time=   0.0s\n",
      "[CV] END ..............................C=0.01, max_iter=1000; total time=   0.0s\n",
      "[CV] END ..................................C=1, max_iter=200; total time=   0.0s\n",
      "[CV] END ..................................C=1, max_iter=200; total time=   0.0s\n",
      "[CV] END ..................................C=1, max_iter=200; total time=   0.0s\n",
      "[CV] END ..................................C=1, max_iter=200; total time=   0.0s\n",
      "[CV] END ..................................C=1, max_iter=200; total time=   0.0s\n",
      "[CV] END ..................................C=1, max_iter=500; total time=   0.0s\n",
      "[CV] END ..................................C=1, max_iter=500; total time=   0.0s\n",
      "[CV] END ..................................C=1, max_iter=500; total time=   0.0s\n",
      "[CV] END ..................................C=1, max_iter=500; total time=   0.0s\n",
      "[CV] END ..................................C=1, max_iter=500; total time=   0.0s\n",
      "[CV] END .................................C=1, max_iter=1000; total time=   0.0s\n",
      "[CV] END .................................C=1, max_iter=1000; total time=   0.0s\n",
      "[CV] END .................................C=1, max_iter=1000; total time=   0.0s\n",
      "[CV] END .................................C=1, max_iter=1000; total time=   0.0s\n",
      "[CV] END .................................C=1, max_iter=1000; total time=   0.0s\n",
      "[CV] END .................................C=10, max_iter=200; total time=   0.0s\n",
      "[CV] END .................................C=10, max_iter=200; total time=   0.0s\n",
      "[CV] END .................................C=10, max_iter=200; total time=   0.0s\n",
      "[CV] END .................................C=10, max_iter=200; total time=   0.0s\n",
      "[CV] END .................................C=10, max_iter=200; total time=   0.0s\n",
      "[CV] END .................................C=10, max_iter=500; total time=   0.0s\n",
      "[CV] END .................................C=10, max_iter=500; total time=   0.0s\n",
      "[CV] END .................................C=10, max_iter=500; total time=   0.0s\n",
      "[CV] END .................................C=10, max_iter=500; total time=   0.0s\n",
      "[CV] END .................................C=10, max_iter=500; total time=   0.0s\n",
      "[CV] END ................................C=10, max_iter=1000; total time=   0.0s\n",
      "[CV] END ................................C=10, max_iter=1000; total time=   0.0s\n",
      "[CV] END ................................C=10, max_iter=1000; total time=   0.0s\n",
      "[CV] END ................................C=10, max_iter=1000; total time=   0.0s\n",
      "[CV] END ................................C=10, max_iter=1000; total time=   0.0s\n",
      "[CV] END .................................C=10, max_iter=200; total time=   0.0s\n",
      "[CV] END .................................C=10, max_iter=200; total time=   0.0s\n",
      "[CV] END .................................C=10, max_iter=200; total time=   0.0s\n",
      "[CV] END .................................C=10, max_iter=200; total time=   0.0s\n",
      "[CV] END .................................C=10, max_iter=200; total time=   0.0s\n",
      "[CV] END .................................C=10, max_iter=500; total time=   0.0s\n",
      "[CV] END .................................C=10, max_iter=500; total time=   0.0s\n",
      "[CV] END .................................C=10, max_iter=500; total time=   0.0s\n",
      "[CV] END .................................C=10, max_iter=500; total time=   0.0s\n",
      "[CV] END .................................C=10, max_iter=500; total time=   0.0s\n",
      "[CV] END ................................C=10, max_iter=1000; total time=   0.0s\n",
      "[CV] END ................................C=10, max_iter=1000; total time=   0.0s\n",
      "[CV] END ................................C=10, max_iter=1000; total time=   0.0s\n",
      "[CV] END ................................C=10, max_iter=1000; total time=   0.0s\n",
      "[CV] END ................................C=10, max_iter=1000; total time=   0.0s\n"
     ]
    },
    {
     "data": {
      "text/plain": [
       "GridSearchCV(estimator=LogisticRegression(random_state=0),\n",
       "             param_grid={'C': [0.001, 0.01, 1, 10, 10],\n",
       "                         'max_iter': [200, 500, 1000]},\n",
       "             verbose=2)"
      ]
     },
     "execution_count": 12,
     "metadata": {},
     "output_type": "execute_result"
    }
   ],
   "source": [
    "# Create a GridSearchCV() object and fit it to the training data.\n",
    "grid_LogiTaskA = GridSearchCV(LogisticRegression(solver='lbfgs', random_state=0), param_grid=param_grid, refit=True, verbose=2)\n",
    "grid_LogiTaskA.fit(X_train, y_train)"
   ]
  },
  {
   "cell_type": "markdown",
   "id": "24391eca",
   "metadata": {},
   "source": [
    "### Check best hyperparameters"
   ]
  },
  {
   "cell_type": "code",
   "execution_count": 13,
   "id": "98febe92",
   "metadata": {},
   "outputs": [
    {
     "name": "stdout",
     "output_type": "stream",
     "text": [
      "Best hyperparameter by GridsearchCV(): {'C': 0.01, 'max_iter': 200} \n",
      "\n",
      "Best score by using this hyperparameter: 0.8943 \n",
      "\n",
      "\n",
      "For parameter {'C': 0.001, 'max_iter': 200}: Mean score 0.8614 (with std 0.0080)\n",
      "\n",
      "For parameter {'C': 0.001, 'max_iter': 500}: Mean score 0.8614 (with std 0.0080)\n",
      "\n",
      "For parameter {'C': 0.001, 'max_iter': 1000}: Mean score 0.8614 (with std 0.0080)\n",
      "\n",
      "For parameter {'C': 0.01, 'max_iter': 200}: Mean score 0.8943 (with std 0.0122)\n",
      "\n",
      "For parameter {'C': 0.01, 'max_iter': 500}: Mean score 0.8943 (with std 0.0122)\n",
      "\n",
      "For parameter {'C': 0.01, 'max_iter': 1000}: Mean score 0.8943 (with std 0.0122)\n",
      "\n",
      "For parameter {'C': 1, 'max_iter': 200}: Mean score 0.8914 (with std 0.0174)\n",
      "\n",
      "For parameter {'C': 1, 'max_iter': 500}: Mean score 0.8914 (with std 0.0174)\n",
      "\n",
      "For parameter {'C': 1, 'max_iter': 1000}: Mean score 0.8914 (with std 0.0174)\n",
      "\n",
      "For parameter {'C': 10, 'max_iter': 200}: Mean score 0.8910 (with std 0.0188)\n",
      "\n",
      "For parameter {'C': 10, 'max_iter': 500}: Mean score 0.8910 (with std 0.0188)\n",
      "\n",
      "For parameter {'C': 10, 'max_iter': 1000}: Mean score 0.8910 (with std 0.0188)\n",
      "\n",
      "For parameter {'C': 10, 'max_iter': 200}: Mean score 0.8910 (with std 0.0188)\n",
      "\n",
      "For parameter {'C': 10, 'max_iter': 500}: Mean score 0.8910 (with std 0.0188)\n",
      "\n",
      "For parameter {'C': 10, 'max_iter': 1000}: Mean score 0.8910 (with std 0.0188)\n",
      "\n"
     ]
    }
   ],
   "source": [
    "# Print best hyperparameters and score of grid model\n",
    "print('Best hyperparameter by GridsearchCV():', grid_LogiTaskA.best_params_, '\\n')\n",
    "print('Best score by using this hyperparameter: %.4f' %(grid_LogiTaskA.best_score_), '\\n\\n')\n",
    "\n",
    "# Print mean, std of grid model\n",
    "means_grid = grid_LogiTaskA.cv_results_['mean_test_score']\n",
    "stds_grid = grid_LogiTaskA.cv_results_['std_test_score']\n",
    "params_grid = grid_LogiTaskA.cv_results_['params']\n",
    "    \n",
    "for mean, stdev, param in zip(means_grid, stds_grid, params_grid):\n",
    "    print('For parameter %r: Mean score %.4f (with std %.4f)\\n'% (param, mean, stdev))"
   ]
  },
  {
   "cell_type": "markdown",
   "id": "e7a04779",
   "metadata": {},
   "source": [
    "## 3. Model Evaluation\n",
    "**Evaluate the model per test set by checking confusion matrix, classification report, accuracy score and cohen kappa score.**"
   ]
  },
  {
   "cell_type": "code",
   "execution_count": 14,
   "id": "17aa75a8",
   "metadata": {},
   "outputs": [
    {
     "name": "stdout",
     "output_type": "stream",
     "text": [
      "Confusion matrix: \n",
      " [[  5  32]\n",
      " [  5 158]] \n",
      "\n",
      "Accuracy on test set:  0.815 \n",
      "\n",
      "Classification report: \n",
      "               precision    recall  f1-score   support\n",
      "\n",
      "           0       0.50      0.14      0.21        37\n",
      "           1       0.83      0.97      0.90       163\n",
      "\n",
      "    accuracy                           0.81       200\n",
      "   macro avg       0.67      0.55      0.55       200\n",
      "weighted avg       0.77      0.81      0.77       200\n",
      " \n",
      "\n",
      "cohen_kappa score： 0.1454965357967667\n"
     ]
    }
   ],
   "source": [
    "# Get predictions from the grid model.\n",
    "pred_grid_LogiTaskA = grid_LogiTaskA.predict(X_test)\n",
    "\n",
    "# Print grid model performance: Confusion matrix, accuracy score and classification report.\n",
    "print('Confusion matrix: \\n', confusion_matrix(y_test, pred_grid_LogiTaskA), '\\n')\n",
    "print('Accuracy on test set: ', accuracy_score(y_test, pred_grid_LogiTaskA), '\\n')\n",
    "print('Classification report: \\n', classification_report(y_test, pred_grid_LogiTaskA), '\\n')\n",
    "print('cohen_kappa score：',cohen_kappa_score(y_test, pred_grid_LogiTaskA))"
   ]
  },
  {
   "cell_type": "markdown",
   "id": "71410157",
   "metadata": {},
   "source": [
    "## 4. Save model"
   ]
  },
  {
   "cell_type": "code",
   "execution_count": 14,
   "id": "f6c3bc52",
   "metadata": {},
   "outputs": [],
   "source": [
    "# Save trained model with help of pickle.\n",
    "with open('Model/LogRegTaskA.pickle', 'wb') as handle:\n",
    "    pickle.dump(grid_LogiTaskA, handle)"
   ]
  },
  {
   "cell_type": "code",
   "execution_count": null,
   "id": "2f795246",
   "metadata": {},
   "outputs": [],
   "source": []
  }
 ],
 "metadata": {
  "kernelspec": {
   "display_name": "Python 3 (ipykernel)",
   "language": "python",
   "name": "python3"
  },
  "language_info": {
   "codemirror_mode": {
    "name": "ipython",
    "version": 3
   },
   "file_extension": ".py",
   "mimetype": "text/x-python",
   "name": "python",
   "nbconvert_exporter": "python",
   "pygments_lexer": "ipython3",
   "version": "3.7.11"
  }
 },
 "nbformat": 4,
 "nbformat_minor": 5
}
