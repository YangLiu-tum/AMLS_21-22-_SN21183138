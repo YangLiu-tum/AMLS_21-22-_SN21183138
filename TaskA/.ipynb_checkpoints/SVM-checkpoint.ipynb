{
 "cells": [
  {
   "cell_type": "markdown",
   "id": "f7cf9748",
   "metadata": {},
   "source": [
    "# Task A: SVM"
   ]
  },
  {
   "cell_type": "markdown",
   "id": "ad3dca4e",
   "metadata": {},
   "source": [
    "## 0. Load the preprocessed data\n",
    "**We will use the preprocessed dataset after image processing and PCA. It characterizes 2 different classes (tumor or not) based on 200 features.** "
   ]
  },
  {
   "cell_type": "code",
   "execution_count": 1,
   "id": "e4dffb7d",
   "metadata": {},
   "outputs": [],
   "source": [
    "# Import necessary libraries\n",
    "import pickle\n",
    "import numpy as np\n",
    "import pandas as pd"
   ]
  },
  {
   "cell_type": "code",
   "execution_count": 2,
   "id": "2ed198e3",
   "metadata": {},
   "outputs": [
    {
     "name": "stdout",
     "output_type": "stream",
     "text": [
      "(3000, 200) (3000,)\n"
     ]
    }
   ],
   "source": [
    "# Load preprocessed data with help of pickle.\n",
    "with open('DataAfterProcess/images_AfterProcess.pickle', 'rb') as handle:\n",
    "    X = pickle.load(handle)\n",
    "    \n",
    "with open('DataAfterProcess/label_AfterProcess.pickle', 'rb') as handle:\n",
    "    y = pickle.load(handle)\n",
    "    \n",
    "# Check result.\n",
    "print(X.shape, y.shape) "
   ]
  },
  {
   "cell_type": "markdown",
   "id": "6ab64221",
   "metadata": {},
   "source": [
    "### Train Test Split\n",
    "\n",
    "**Split data into a training set (90%) and a test set (10%). Note that the test set here comes from the dataset.zip file, not the test.zip file.**"
   ]
  },
  {
   "cell_type": "code",
   "execution_count": 3,
   "id": "7474e4f9",
   "metadata": {},
   "outputs": [],
   "source": [
    "# Import necessary libraries\n",
    "from sklearn.model_selection import train_test_split"
   ]
  },
  {
   "cell_type": "code",
   "execution_count": 4,
   "id": "ad638729",
   "metadata": {},
   "outputs": [
    {
     "name": "stdout",
     "output_type": "stream",
     "text": [
      "(2430, 200) (2430,) (270, 200) (270,) (300, 200) (300,)\n",
      "train set: 0.81 | val set: 0.09 | test set: 0.1\n"
     ]
    }
   ],
   "source": [
    "# Split data into a training set and a test set (90% training and 10% testing data).\n",
    "# Notice that all random state is chosen as fixed in this assignment to ensure reproducibility.\n",
    "X_train, X_test, y_train, y_test = train_test_split(X,y, \n",
    "                                                    test_size=0.1, random_state=3)\n",
    "\n",
    "# Split training set into a new training set and a validation set (90% training and 10% validation data).\n",
    "X_train_new, X_val, y_train_new, y_val = train_test_split(X_train,y_train, \n",
    "                                                          test_size=0.1, random_state=3)\n",
    "\n",
    "# Check result.\n",
    "print(X_train_new.shape, y_train_new.shape, X_val.shape, y_val.shape, X_test.shape, y_test.shape) \n",
    "print('train set: {} | val set: {} | test set: {}'.format(round(len(y_train_new)/len(X),3), \n",
    "                                                          round(len(y_val)/len(X),3),\n",
    "                                                          round(len(y_test)/len(X),3)))"
   ]
  },
  {
   "cell_type": "markdown",
   "id": "ffca63f4",
   "metadata": {},
   "source": [
    "## 1. Train a SVM model\n",
    "**Firstly, we train a SVM model without hyperparameter tuning in order to compare with model trained from GridsearchCV in next step.**"
   ]
  },
  {
   "cell_type": "code",
   "execution_count": 5,
   "id": "06a34291",
   "metadata": {},
   "outputs": [],
   "source": [
    "# Import necessary libraries\n",
    "from sklearn.svm import SVC"
   ]
  },
  {
   "cell_type": "code",
   "execution_count": 6,
   "id": "147533f9",
   "metadata": {},
   "outputs": [
    {
     "data": {
      "text/plain": [
       "SVC(random_state=0)"
      ]
     },
     "execution_count": 6,
     "metadata": {},
     "output_type": "execute_result"
    }
   ],
   "source": [
    "# Call the SVC() model from sklearn and fit the model to the training data.\n",
    "# Notice that all random state is chosen as fixed in this assignment to ensure reproducibility.\n",
    "svm = SVC(random_state=0)\n",
    "svm.fit(X_train_new, y_train_new)"
   ]
  },
  {
   "cell_type": "markdown",
   "id": "774d7fae",
   "metadata": {},
   "source": [
    "### Model validation\n",
    "**Evaluate the model per validation set by checking confusion matrix, classification report, accuracy score and cohen kappa score.**"
   ]
  },
  {
   "cell_type": "code",
   "execution_count": 7,
   "id": "d8b0af1d",
   "metadata": {},
   "outputs": [],
   "source": [
    "# Import necessary libraries\n",
    "from sklearn.metrics import confusion_matrix, classification_report, accuracy_score, cohen_kappa_score"
   ]
  },
  {
   "cell_type": "code",
   "execution_count": 8,
   "id": "13da4450",
   "metadata": {},
   "outputs": [
    {
     "name": "stdout",
     "output_type": "stream",
     "text": [
      "Confusion matrix: \n",
      " [[ 27  12]\n",
      " [  5 226]] \n",
      "\n",
      "Accuracy on validation set:  0.937037037037037 \n",
      "\n",
      "Classification report: \n",
      "               precision    recall  f1-score   support\n",
      "\n",
      "           0       0.84      0.69      0.76        39\n",
      "           1       0.95      0.98      0.96       231\n",
      "\n",
      "    accuracy                           0.94       270\n",
      "   macro avg       0.90      0.84      0.86       270\n",
      "weighted avg       0.93      0.94      0.93       270\n",
      " \n",
      "\n",
      "cohen_kappa score： 0.7247211227060093\n"
     ]
    }
   ],
   "source": [
    "# Get predictions from the model.\n",
    "y_pred = svm.predict(X_val)\n",
    "\n",
    "# Print model performance: Confusion matrix, accuracy score, classification report and cohen kappa score.\n",
    "print('Confusion matrix: \\n', confusion_matrix(y_val, y_pred), '\\n')\n",
    "print('Accuracy on validation set: ', accuracy_score(y_val, y_pred), '\\n')\n",
    "print('Classification report: \\n', classification_report(y_val, y_pred), '\\n') \n",
    "print('cohen_kappa score：',cohen_kappa_score(y_val, y_pred))"
   ]
  },
  {
   "cell_type": "markdown",
   "id": "ffabbb77",
   "metadata": {},
   "source": [
    "## 2. Hyperparameter tuning: GridsearchCV \n",
    "**Let's tune the hyper-parameters of SVM with help of GridsearchCV(). We tune the kernel with different regularizarion parameter C here.**"
   ]
  },
  {
   "cell_type": "markdown",
   "id": "8afde97e",
   "metadata": {},
   "source": [
    "### Implement GrisearchCV"
   ]
  },
  {
   "cell_type": "code",
   "execution_count": 9,
   "id": "36143246",
   "metadata": {},
   "outputs": [],
   "source": [
    "# Import necessary libraries\n",
    "from sklearn.model_selection import GridSearchCV"
   ]
  },
  {
   "cell_type": "code",
   "execution_count": 10,
   "id": "cf98cdf9",
   "metadata": {},
   "outputs": [],
   "source": [
    "# Create a dictionary called param_grid and fill out some parameters for C and kernel.\n",
    "param_grid = {'C': [0.5,5,50],\n",
    "              'kernel': ['poly', 'rbf', 'sigmoid']}"
   ]
  },
  {
   "cell_type": "code",
   "execution_count": 11,
   "id": "dacf0702",
   "metadata": {},
   "outputs": [
    {
     "name": "stdout",
     "output_type": "stream",
     "text": [
      "Fitting 5 folds for each of 9 candidates, totalling 45 fits\n",
      "[CV] END .................................C=0.5, kernel=poly; total time=   0.2s\n",
      "[CV] END .................................C=0.5, kernel=poly; total time=   0.1s\n",
      "[CV] END .................................C=0.5, kernel=poly; total time=   0.1s\n",
      "[CV] END .................................C=0.5, kernel=poly; total time=   0.1s\n",
      "[CV] END .................................C=0.5, kernel=poly; total time=   0.1s\n",
      "[CV] END ..................................C=0.5, kernel=rbf; total time=   0.2s\n",
      "[CV] END ..................................C=0.5, kernel=rbf; total time=   0.2s\n",
      "[CV] END ..................................C=0.5, kernel=rbf; total time=   0.2s\n",
      "[CV] END ..................................C=0.5, kernel=rbf; total time=   0.2s\n",
      "[CV] END ..................................C=0.5, kernel=rbf; total time=   0.2s\n",
      "[CV] END ..............................C=0.5, kernel=sigmoid; total time=   0.1s\n",
      "[CV] END ..............................C=0.5, kernel=sigmoid; total time=   0.1s\n",
      "[CV] END ..............................C=0.5, kernel=sigmoid; total time=   0.1s\n",
      "[CV] END ..............................C=0.5, kernel=sigmoid; total time=   0.1s\n",
      "[CV] END ..............................C=0.5, kernel=sigmoid; total time=   0.1s\n",
      "[CV] END ...................................C=5, kernel=poly; total time=   0.1s\n",
      "[CV] END ...................................C=5, kernel=poly; total time=   0.1s\n",
      "[CV] END ...................................C=5, kernel=poly; total time=   0.1s\n",
      "[CV] END ...................................C=5, kernel=poly; total time=   0.2s\n",
      "[CV] END ...................................C=5, kernel=poly; total time=   0.1s\n",
      "[CV] END ....................................C=5, kernel=rbf; total time=   0.2s\n",
      "[CV] END ....................................C=5, kernel=rbf; total time=   0.1s\n",
      "[CV] END ....................................C=5, kernel=rbf; total time=   0.1s\n",
      "[CV] END ....................................C=5, kernel=rbf; total time=   0.2s\n",
      "[CV] END ....................................C=5, kernel=rbf; total time=   0.2s\n",
      "[CV] END ................................C=5, kernel=sigmoid; total time=   0.0s\n",
      "[CV] END ................................C=5, kernel=sigmoid; total time=   0.1s\n",
      "[CV] END ................................C=5, kernel=sigmoid; total time=   0.0s\n",
      "[CV] END ................................C=5, kernel=sigmoid; total time=   0.0s\n",
      "[CV] END ................................C=5, kernel=sigmoid; total time=   0.0s\n",
      "[CV] END ..................................C=50, kernel=poly; total time=   0.1s\n",
      "[CV] END ..................................C=50, kernel=poly; total time=   0.1s\n",
      "[CV] END ..................................C=50, kernel=poly; total time=   0.1s\n",
      "[CV] END ..................................C=50, kernel=poly; total time=   0.1s\n",
      "[CV] END ..................................C=50, kernel=poly; total time=   0.1s\n",
      "[CV] END ...................................C=50, kernel=rbf; total time=   0.2s\n",
      "[CV] END ...................................C=50, kernel=rbf; total time=   0.2s\n",
      "[CV] END ...................................C=50, kernel=rbf; total time=   0.2s\n",
      "[CV] END ...................................C=50, kernel=rbf; total time=   0.2s\n",
      "[CV] END ...................................C=50, kernel=rbf; total time=   0.2s\n",
      "[CV] END ...............................C=50, kernel=sigmoid; total time=   0.0s\n",
      "[CV] END ...............................C=50, kernel=sigmoid; total time=   0.0s\n",
      "[CV] END ...............................C=50, kernel=sigmoid; total time=   0.0s\n",
      "[CV] END ...............................C=50, kernel=sigmoid; total time=   0.1s\n",
      "[CV] END ...............................C=50, kernel=sigmoid; total time=   0.1s\n"
     ]
    },
    {
     "data": {
      "text/plain": [
       "GridSearchCV(estimator=SVC(),\n",
       "             param_grid={'C': [0.5, 5, 50],\n",
       "                         'kernel': ['poly', 'rbf', 'sigmoid']},\n",
       "             verbose=2)"
      ]
     },
     "execution_count": 11,
     "metadata": {},
     "output_type": "execute_result"
    }
   ],
   "source": [
    "# Create a GridSearchCV() object and fit it to the training data.\n",
    "grid_SVMTaskA = GridSearchCV(SVC(), param_grid=param_grid, refit=True, verbose=2)\n",
    "grid_SVMTaskA.fit(X_train, y_train)"
   ]
  },
  {
   "cell_type": "markdown",
   "id": "24391eca",
   "metadata": {},
   "source": [
    "### Check best hyperparameters"
   ]
  },
  {
   "cell_type": "code",
   "execution_count": 12,
   "id": "162a8bf0",
   "metadata": {},
   "outputs": [
    {
     "name": "stdout",
     "output_type": "stream",
     "text": [
      "Best hyperparameter by GridsearchCV(): {'C': 50, 'kernel': 'rbf'} \n",
      "\n",
      "Best score by using this hyperparameter: 0.9581 \n",
      "\n",
      "\n",
      "For parameter {'C': 0.5, 'kernel': 'poly'}: Mean score 0.9007 (with std 0.0083)\n",
      "\n",
      "For parameter {'C': 0.5, 'kernel': 'rbf'}: Mean score 0.9193 (with std 0.0097)\n",
      "\n",
      "For parameter {'C': 0.5, 'kernel': 'sigmoid'}: Mean score 0.8415 (with std 0.0030)\n",
      "\n",
      "For parameter {'C': 5, 'kernel': 'poly'}: Mean score 0.9326 (with std 0.0103)\n",
      "\n",
      "For parameter {'C': 5, 'kernel': 'rbf'}: Mean score 0.9570 (with std 0.0059)\n",
      "\n",
      "For parameter {'C': 5, 'kernel': 'sigmoid'}: Mean score 0.8089 (with std 0.0068)\n",
      "\n",
      "For parameter {'C': 50, 'kernel': 'poly'}: Mean score 0.9407 (with std 0.0103)\n",
      "\n",
      "For parameter {'C': 50, 'kernel': 'rbf'}: Mean score 0.9581 (with std 0.0042)\n",
      "\n",
      "For parameter {'C': 50, 'kernel': 'sigmoid'}: Mean score 0.8019 (with std 0.0054)\n",
      "\n"
     ]
    }
   ],
   "source": [
    "# Print best hyperparameters and score of grid model\n",
    "print('Best hyperparameter by GridsearchCV():', grid_SVMTaskA.best_params_, '\\n')\n",
    "print('Best score by using this hyperparameter: %.4f' %(grid_SVMTaskA.best_score_), '\\n\\n')\n",
    "\n",
    "# Print mean, std of grid model\n",
    "means_grid = grid_SVMTaskA.cv_results_['mean_test_score']\n",
    "stds_grid = grid_SVMTaskA.cv_results_['std_test_score']\n",
    "params_grid = grid_SVMTaskA.cv_results_['params']\n",
    "    \n",
    "for mean, stdev, param in zip(means_grid, stds_grid, params_grid):\n",
    "    print('For parameter %r: Mean score %.4f (with std %.4f)\\n'% (param, mean, stdev))"
   ]
  },
  {
   "cell_type": "markdown",
   "id": "e7a04779",
   "metadata": {},
   "source": [
    "## 3. Model Evaluation\n",
    "**Evaluate the model per test set by checking confusion matrix, classification report, accuracy score and cohen kappa score.**"
   ]
  },
  {
   "cell_type": "code",
   "execution_count": 13,
   "id": "17aa75a8",
   "metadata": {},
   "outputs": [
    {
     "name": "stdout",
     "output_type": "stream",
     "text": [
      "Confusion matrix: \n",
      " [[ 40   4]\n",
      " [  2 254]] \n",
      "\n",
      "Accuracy on test set:  0.98 \n",
      "\n",
      "Classification report: \n",
      "               precision    recall  f1-score   support\n",
      "\n",
      "           0       0.95      0.91      0.93        44\n",
      "           1       0.98      0.99      0.99       256\n",
      "\n",
      "    accuracy                           0.98       300\n",
      "   macro avg       0.97      0.95      0.96       300\n",
      "weighted avg       0.98      0.98      0.98       300\n",
      " \n",
      "\n",
      "cohen_kappa score： 0.9185667752442996\n"
     ]
    }
   ],
   "source": [
    "# Get predictions from the grid model.\n",
    "pred_grid_SVMTaskA = grid_SVMTaskA.predict(X_test)\n",
    "\n",
    "# Print grid model performance: Confusion matrix, accuracy score and classification report.\n",
    "print('Confusion matrix: \\n', confusion_matrix(y_test, pred_grid_SVMTaskA), '\\n')\n",
    "print('Accuracy on test set: ', accuracy_score(y_test, pred_grid_SVMTaskA), '\\n')\n",
    "print('Classification report: \\n', classification_report(y_test, pred_grid_SVMTaskA), '\\n')\n",
    "print('cohen_kappa score：',cohen_kappa_score(y_test, pred_grid_SVMTaskA))"
   ]
  },
  {
   "cell_type": "markdown",
   "id": "71410157",
   "metadata": {},
   "source": [
    "## 3. Save model"
   ]
  },
  {
   "cell_type": "code",
   "execution_count": 14,
   "id": "f6c3bc52",
   "metadata": {},
   "outputs": [],
   "source": [
    "# Save trained model with help of pickle.\n",
    "with open('Model/SVMTaskA.pickle', 'wb') as handle:\n",
    "    pickle.dump(grid_SVMTaskA, handle)"
   ]
  },
  {
   "cell_type": "code",
   "execution_count": null,
   "id": "e07bf497",
   "metadata": {},
   "outputs": [],
   "source": []
  }
 ],
 "metadata": {
  "kernelspec": {
   "display_name": "Python 3 (ipykernel)",
   "language": "python",
   "name": "python3"
  },
  "language_info": {
   "codemirror_mode": {
    "name": "ipython",
    "version": 3
   },
   "file_extension": ".py",
   "mimetype": "text/x-python",
   "name": "python",
   "nbconvert_exporter": "python",
   "pygments_lexer": "ipython3",
   "version": "3.7.11"
  }
 },
 "nbformat": 4,
 "nbformat_minor": 5
}
