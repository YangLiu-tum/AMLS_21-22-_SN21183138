{
 "cells": [
  {
   "cell_type": "markdown",
   "id": "f7cf9748",
   "metadata": {},
   "source": [
    "# Task A: SVM"
   ]
  },
  {
   "cell_type": "markdown",
   "id": "ad3dca4e",
   "metadata": {},
   "source": [
    "## 0. Load the preprocessed data\n",
    "**We will use the preprocessed dataset after PCA. It characterizes 2 different classes (tumor or not) based on 200 features.** "
   ]
  },
  {
   "cell_type": "code",
   "execution_count": 1,
   "id": "e4dffb7d",
   "metadata": {},
   "outputs": [],
   "source": [
    "# Import necessary libraries\n",
    "import pickle\n",
    "import numpy as np\n",
    "import pandas as pd"
   ]
  },
  {
   "cell_type": "code",
   "execution_count": 2,
   "id": "2ed198e3",
   "metadata": {},
   "outputs": [
    {
     "name": "stdout",
     "output_type": "stream",
     "text": [
      "(3000, 200) (3000,)\n"
     ]
    }
   ],
   "source": [
    "# Load preprocessed data with help of pickle.\n",
    "with open('DataAfterProcess/images_AfterProcess.pickle', 'rb') as handle:\n",
    "    X = pickle.load(handle)\n",
    "    \n",
    "with open('DataAfterProcess/label_AfterProcess.pickle', 'rb') as handle:\n",
    "    y = pickle.load(handle)\n",
    "    \n",
    "# Check result.\n",
    "print(X.shape, y.shape) "
   ]
  },
  {
   "cell_type": "markdown",
   "id": "e9480dad",
   "metadata": {},
   "source": [
    "### Train Test Split\n",
    "\n",
    "**Split data into a training set (70%) and a test set (30%). Note that the test set here comes from the dataset.zip file, not the test.zip file.**"
   ]
  },
  {
   "cell_type": "code",
   "execution_count": 3,
   "id": "7474e4f9",
   "metadata": {},
   "outputs": [],
   "source": [
    "# Import necessary libraries\n",
    "from sklearn.model_selection import train_test_split"
   ]
  },
  {
   "cell_type": "code",
   "execution_count": 4,
   "id": "ad638729",
   "metadata": {},
   "outputs": [
    {
     "name": "stdout",
     "output_type": "stream",
     "text": [
      "(2100, 200) (2100,) (900, 200) (900,)\n",
      "train set: 0.7  | test set: 0.3\n"
     ]
    }
   ],
   "source": [
    "# Split data into a training set and a test set (70% training and 30% testing data).\n",
    "# Notice that all random state is chosen as 0 in this assignment to ensure reproducibility.\n",
    "X_train, X_test, y_train, y_test = train_test_split(X,y, \n",
    "                                                    test_size=0.3, random_state=0)\n",
    "\n",
    "# Check result.\n",
    "print(X_train.shape, y_train.shape, X_test.shape, y_test.shape) \n",
    "print('train set: {}  | test set: {}'.format(round(len(y_train)/len(X),3), \n",
    "                                             round(len(y_test)/len(X),3)))"
   ]
  },
  {
   "cell_type": "markdown",
   "id": "ffca63f4",
   "metadata": {},
   "source": [
    "## 1. Train a SVM model\n",
    "**Firstly, we train a SVM model without hyperparameter tuning in order to compare with model trained from GridsearchCV in next step.**"
   ]
  },
  {
   "cell_type": "code",
   "execution_count": 5,
   "id": "06a34291",
   "metadata": {},
   "outputs": [],
   "source": [
    "# Import necessary libraries\n",
    "from sklearn.svm import SVC"
   ]
  },
  {
   "cell_type": "code",
   "execution_count": 6,
   "id": "147533f9",
   "metadata": {},
   "outputs": [
    {
     "data": {
      "text/plain": [
       "SVC(random_state=0)"
      ]
     },
     "execution_count": 6,
     "metadata": {},
     "output_type": "execute_result"
    }
   ],
   "source": [
    "# Call the LogisticRegression() model from sklearn and fit the model to the training data.\n",
    "# Notice that all random state is chosen as 0 in this assignment to ensure reproducibility.\n",
    "svm = SVC(random_state=0)\n",
    "svm.fit(X_train, y_train)"
   ]
  },
  {
   "cell_type": "markdown",
   "id": "06e134e4",
   "metadata": {},
   "source": [
    "### Model Evaluation\n",
    "**Get predictions from the model, then create the confusion matrix, the classification report and check the accuracy score, cohen kappa score .**"
   ]
  },
  {
   "cell_type": "code",
   "execution_count": 7,
   "id": "d8b0af1d",
   "metadata": {},
   "outputs": [],
   "source": [
    "# Import necessary libraries\n",
    "from sklearn.metrics import confusion_matrix, classification_report, accuracy_score, cohen_kappa_score"
   ]
  },
  {
   "cell_type": "code",
   "execution_count": 8,
   "id": "13da4450",
   "metadata": {},
   "outputs": [
    {
     "name": "stdout",
     "output_type": "stream",
     "text": [
      "Confusion matrix: \n",
      " [[ 96  49]\n",
      " [  6 749]] \n",
      "\n",
      "Accuracy on test set:  0.9388888888888889 \n",
      "\n",
      "Classification report: \n",
      "               precision    recall  f1-score   support\n",
      "\n",
      "           0       0.94      0.66      0.78       145\n",
      "           1       0.94      0.99      0.96       755\n",
      "\n",
      "    accuracy                           0.94       900\n",
      "   macro avg       0.94      0.83      0.87       900\n",
      "weighted avg       0.94      0.94      0.93       900\n",
      " \n",
      "\n",
      "cohen_kappa score： 0.7431506849315068\n"
     ]
    }
   ],
   "source": [
    "# Get predictions from the model.\n",
    "y_pred = svm.predict(X_test)\n",
    "\n",
    "# Print model performance: Confusion matrix, accuracy score and classification report.\n",
    "print('Confusion matrix: \\n', confusion_matrix(y_test, y_pred), '\\n')\n",
    "print('Accuracy on test set: ', accuracy_score(y_test, y_pred), '\\n')\n",
    "print('Classification report: \\n', classification_report(y_test, y_pred), '\\n') \n",
    "print('cohen_kappa score：',cohen_kappa_score(y_test, y_pred))"
   ]
  },
  {
   "cell_type": "markdown",
   "id": "ffabbb77",
   "metadata": {},
   "source": [
    "## 2. Hyperparameter tuning: GridsearchCV \n",
    "**Let's tune the hyper-parameters with help of GridsearchCV(). We tune kernel with different regularizarion parameter C.**"
   ]
  },
  {
   "cell_type": "code",
   "execution_count": 9,
   "id": "36143246",
   "metadata": {},
   "outputs": [],
   "source": [
    "# Import necessary libraries\n",
    "from sklearn.model_selection import GridSearchCV"
   ]
  },
  {
   "cell_type": "code",
   "execution_count": 14,
   "id": "cf98cdf9",
   "metadata": {},
   "outputs": [],
   "source": [
    "# Create a dictionary called param_grid and fill out some parameters for C and kernel.\n",
    "\n",
    "# param_grid = {'C': [0.5,5,50],\n",
    "#               'kernel': ['rbf']}\n",
    "\n",
    "\n",
    "param_grid = {'C': [0.5,5,50],\n",
    "              'kernel': ['poly', 'rbf', 'sigmoid']}"
   ]
  },
  {
   "cell_type": "code",
   "execution_count": 15,
   "id": "dacf0702",
   "metadata": {},
   "outputs": [
    {
     "name": "stdout",
     "output_type": "stream",
     "text": [
      "Fitting 5 folds for each of 9 candidates, totalling 45 fits\n",
      "[CV] END .................................C=0.5, kernel=poly; total time=   0.1s\n",
      "[CV] END .................................C=0.5, kernel=poly; total time=   0.0s\n",
      "[CV] END .................................C=0.5, kernel=poly; total time=   0.0s\n",
      "[CV] END .................................C=0.5, kernel=poly; total time=   0.0s\n",
      "[CV] END .................................C=0.5, kernel=poly; total time=   0.0s\n",
      "[CV] END ..................................C=0.5, kernel=rbf; total time=   0.1s\n",
      "[CV] END ..................................C=0.5, kernel=rbf; total time=   0.1s\n",
      "[CV] END ..................................C=0.5, kernel=rbf; total time=   0.1s\n",
      "[CV] END ..................................C=0.5, kernel=rbf; total time=   0.1s\n",
      "[CV] END ..................................C=0.5, kernel=rbf; total time=   0.2s\n",
      "[CV] END ..............................C=0.5, kernel=sigmoid; total time=   0.0s\n",
      "[CV] END ..............................C=0.5, kernel=sigmoid; total time=   0.0s\n",
      "[CV] END ..............................C=0.5, kernel=sigmoid; total time=   0.0s\n",
      "[CV] END ..............................C=0.5, kernel=sigmoid; total time=   0.0s\n",
      "[CV] END ..............................C=0.5, kernel=sigmoid; total time=   0.0s\n",
      "[CV] END ...................................C=5, kernel=poly; total time=   0.0s\n",
      "[CV] END ...................................C=5, kernel=poly; total time=   0.0s\n",
      "[CV] END ...................................C=5, kernel=poly; total time=   0.1s\n",
      "[CV] END ...................................C=5, kernel=poly; total time=   0.0s\n",
      "[CV] END ...................................C=5, kernel=poly; total time=   0.1s\n",
      "[CV] END ....................................C=5, kernel=rbf; total time=   0.1s\n",
      "[CV] END ....................................C=5, kernel=rbf; total time=   0.1s\n",
      "[CV] END ....................................C=5, kernel=rbf; total time=   0.0s\n",
      "[CV] END ....................................C=5, kernel=rbf; total time=   0.1s\n",
      "[CV] END ....................................C=5, kernel=rbf; total time=   0.1s\n",
      "[CV] END ................................C=5, kernel=sigmoid; total time=   0.0s\n",
      "[CV] END ................................C=5, kernel=sigmoid; total time=   0.0s\n",
      "[CV] END ................................C=5, kernel=sigmoid; total time=   0.0s\n",
      "[CV] END ................................C=5, kernel=sigmoid; total time=   0.0s\n",
      "[CV] END ................................C=5, kernel=sigmoid; total time=   0.0s\n",
      "[CV] END ..................................C=50, kernel=poly; total time=   0.1s\n",
      "[CV] END ..................................C=50, kernel=poly; total time=   0.1s\n",
      "[CV] END ..................................C=50, kernel=poly; total time=   0.1s\n",
      "[CV] END ..................................C=50, kernel=poly; total time=   0.1s\n",
      "[CV] END ..................................C=50, kernel=poly; total time=   0.1s\n",
      "[CV] END ...................................C=50, kernel=rbf; total time=   0.1s\n",
      "[CV] END ...................................C=50, kernel=rbf; total time=   0.1s\n",
      "[CV] END ...................................C=50, kernel=rbf; total time=   0.1s\n",
      "[CV] END ...................................C=50, kernel=rbf; total time=   0.1s\n",
      "[CV] END ...................................C=50, kernel=rbf; total time=   0.1s\n",
      "[CV] END ...............................C=50, kernel=sigmoid; total time=   0.0s\n",
      "[CV] END ...............................C=50, kernel=sigmoid; total time=   0.0s\n",
      "[CV] END ...............................C=50, kernel=sigmoid; total time=   0.0s\n",
      "[CV] END ...............................C=50, kernel=sigmoid; total time=   0.0s\n",
      "[CV] END ...............................C=50, kernel=sigmoid; total time=   0.0s\n"
     ]
    },
    {
     "data": {
      "text/plain": [
       "GridSearchCV(estimator=SVC(),\n",
       "             param_grid={'C': [0.5, 5, 50],\n",
       "                         'kernel': ['poly', 'rbf', 'sigmoid']},\n",
       "             verbose=2)"
      ]
     },
     "execution_count": 15,
     "metadata": {},
     "output_type": "execute_result"
    }
   ],
   "source": [
    "# Create a GridSearchCV() object and fit it to the training data.\n",
    "grid_SVMTaskA = GridSearchCV(SVC(), param_grid=param_grid, refit=True, verbose=2)\n",
    "grid_SVMTaskA.fit(X_train, y_train)"
   ]
  },
  {
   "cell_type": "markdown",
   "id": "24391eca",
   "metadata": {},
   "source": [
    "### Check best hyperparameters"
   ]
  },
  {
   "cell_type": "code",
   "execution_count": 16,
   "id": "401502f8",
   "metadata": {},
   "outputs": [
    {
     "name": "stdout",
     "output_type": "stream",
     "text": [
      "{'C': 5, 'kernel': 'rbf'}\n"
     ]
    }
   ],
   "source": [
    "# Print best hyperparameters of grid model\n",
    "print(grid_SVMTaskA.best_params_)"
   ]
  },
  {
   "cell_type": "markdown",
   "id": "e7a04779",
   "metadata": {},
   "source": [
    "### Model Evaluation\n",
    "**Get predictions from the grid model, then create the confusion matrix, the classification report and check the accuracy score, cohen kappa score.**"
   ]
  },
  {
   "cell_type": "code",
   "execution_count": 17,
   "id": "17aa75a8",
   "metadata": {},
   "outputs": [
    {
     "name": "stdout",
     "output_type": "stream",
     "text": [
      "Confusion matrix: \n",
      " [[108  37]\n",
      " [  6 749]] \n",
      "\n",
      "Accuracy on test set:  0.9522222222222222 \n",
      "\n",
      "Classification report: \n",
      "               precision    recall  f1-score   support\n",
      "\n",
      "           0       0.95      0.74      0.83       145\n",
      "           1       0.95      0.99      0.97       755\n",
      "\n",
      "    accuracy                           0.95       900\n",
      "   macro avg       0.95      0.87      0.90       900\n",
      "weighted avg       0.95      0.95      0.95       900\n",
      " \n",
      "\n",
      "cohen_kappa score： 0.8065386922615477\n"
     ]
    }
   ],
   "source": [
    "# Get predictions from the grid model.\n",
    "pred_grid_SVMTaskA = grid_SVMTaskA.predict(X_test)\n",
    "\n",
    "# Print grid model performance: Confusion matrix, accuracy score and classification report.\n",
    "print('Confusion matrix: \\n', confusion_matrix(y_test, pred_grid_SVMTaskA), '\\n')\n",
    "print('Accuracy on test set: ', accuracy_score(y_test, pred_grid_SVMTaskA), '\\n')\n",
    "print('Classification report: \\n', classification_report(y_test, pred_grid_SVMTaskA), '\\n')\n",
    "print('cohen_kappa score：',cohen_kappa_score(y_test, pred_grid_SVMTaskA))"
   ]
  },
  {
   "cell_type": "markdown",
   "id": "71410157",
   "metadata": {},
   "source": [
    "## 3. Save model"
   ]
  },
  {
   "cell_type": "code",
   "execution_count": 18,
   "id": "f6c3bc52",
   "metadata": {},
   "outputs": [],
   "source": [
    "# Save trained model with help of pickle.\n",
    "with open('Model/SVMTaskA.pickle', 'wb') as handle:\n",
    "    pickle.dump(grid_SVMTaskA, handle)"
   ]
  },
  {
   "cell_type": "code",
   "execution_count": null,
   "id": "e07bf497",
   "metadata": {},
   "outputs": [],
   "source": []
  }
 ],
 "metadata": {
  "kernelspec": {
   "display_name": "Python 3 (ipykernel)",
   "language": "python",
   "name": "python3"
  },
  "language_info": {
   "codemirror_mode": {
    "name": "ipython",
    "version": 3
   },
   "file_extension": ".py",
   "mimetype": "text/x-python",
   "name": "python",
   "nbconvert_exporter": "python",
   "pygments_lexer": "ipython3",
   "version": "3.7.11"
  }
 },
 "nbformat": 4,
 "nbformat_minor": 5
}
