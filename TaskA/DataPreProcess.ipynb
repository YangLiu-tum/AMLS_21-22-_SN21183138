{
 "cells": [
  {
   "cell_type": "markdown",
   "id": "314c9823",
   "metadata": {},
   "source": [
    "# Task A: Data Preprocessing"
   ]
  },
  {
   "cell_type": "markdown",
   "id": "20e71f81",
   "metadata": {},
   "source": [
    "## 1. Preprocess the label file of MRI dataset"
   ]
  },
  {
   "cell_type": "code",
   "execution_count": 1,
   "id": "288613e0",
   "metadata": {},
   "outputs": [],
   "source": [
    "# Import necessary libraries\n",
    "import numpy as np\n",
    "import pandas as pd"
   ]
  },
  {
   "cell_type": "code",
   "execution_count": 2,
   "id": "82e4d8ca",
   "metadata": {},
   "outputs": [
    {
     "name": "stdout",
     "output_type": "stream",
     "text": [
      "<class 'pandas.core.frame.DataFrame'>\n",
      "RangeIndex: 3000 entries, 0 to 2999\n",
      "Data columns (total 2 columns):\n",
      " #   Column     Non-Null Count  Dtype \n",
      "---  ------     --------------  ----- \n",
      " 0   file_name  3000 non-null   object\n",
      " 1   label      3000 non-null   object\n",
      "dtypes: object(2)\n",
      "memory usage: 47.0+ KB\n",
      "None \n",
      "\n",
      "        file_name             label\n",
      "0  IMAGE_0000.jpg  meningioma_tumor\n",
      "1  IMAGE_0001.jpg          no_tumor\n",
      "2  IMAGE_0002.jpg  meningioma_tumor\n",
      "3  IMAGE_0003.jpg      glioma_tumor\n",
      "4  IMAGE_0004.jpg  meningioma_tumor\n"
     ]
    }
   ],
   "source": [
    "# Read label (.csv file) of dataset.\n",
    "label_csv = pd.read_csv('.\\dataset\\label.csv')\n",
    "\n",
    "# Print basic information of label, notice that it contains 4 classes based on tumor type. \n",
    "print(label_csv.info(), '\\n')\n",
    "print(label_csv.head())"
   ]
  },
  {
   "cell_type": "code",
   "execution_count": 3,
   "id": "69d77e65",
   "metadata": {},
   "outputs": [
    {
     "name": "stderr",
     "output_type": "stream",
     "text": [
      "C:\\Users\\16967\\.conda\\envs\\AMLS_Lab\\lib\\site-packages\\ipykernel_launcher.py:3: SettingWithCopyWarning: \n",
      "A value is trying to be set on a copy of a slice from a DataFrame\n",
      "\n",
      "See the caveats in the documentation: https://pandas.pydata.org/pandas-docs/stable/user_guide/indexing.html#returning-a-view-versus-a-copy\n",
      "  This is separate from the ipykernel package so we can avoid doing imports until\n"
     ]
    },
    {
     "data": {
      "text/html": [
       "<div>\n",
       "<style scoped>\n",
       "    .dataframe tbody tr th:only-of-type {\n",
       "        vertical-align: middle;\n",
       "    }\n",
       "\n",
       "    .dataframe tbody tr th {\n",
       "        vertical-align: top;\n",
       "    }\n",
       "\n",
       "    .dataframe thead th {\n",
       "        text-align: right;\n",
       "    }\n",
       "</style>\n",
       "<table border=\"1\" class=\"dataframe\">\n",
       "  <thead>\n",
       "    <tr style=\"text-align: right;\">\n",
       "      <th></th>\n",
       "      <th>file_name</th>\n",
       "      <th>label</th>\n",
       "      <th>new</th>\n",
       "    </tr>\n",
       "  </thead>\n",
       "  <tbody>\n",
       "    <tr>\n",
       "      <th>0</th>\n",
       "      <td>IMAGE_0000.jpg</td>\n",
       "      <td>meningioma_tumor</td>\n",
       "      <td>1</td>\n",
       "    </tr>\n",
       "    <tr>\n",
       "      <th>1</th>\n",
       "      <td>IMAGE_0001.jpg</td>\n",
       "      <td>no_tumor</td>\n",
       "      <td>0</td>\n",
       "    </tr>\n",
       "    <tr>\n",
       "      <th>2</th>\n",
       "      <td>IMAGE_0002.jpg</td>\n",
       "      <td>meningioma_tumor</td>\n",
       "      <td>1</td>\n",
       "    </tr>\n",
       "    <tr>\n",
       "      <th>3</th>\n",
       "      <td>IMAGE_0003.jpg</td>\n",
       "      <td>glioma_tumor</td>\n",
       "      <td>1</td>\n",
       "    </tr>\n",
       "    <tr>\n",
       "      <th>4</th>\n",
       "      <td>IMAGE_0004.jpg</td>\n",
       "      <td>meningioma_tumor</td>\n",
       "      <td>1</td>\n",
       "    </tr>\n",
       "  </tbody>\n",
       "</table>\n",
       "</div>"
      ],
      "text/plain": [
       "        file_name             label  new\n",
       "0  IMAGE_0000.jpg  meningioma_tumor    1\n",
       "1  IMAGE_0001.jpg          no_tumor    0\n",
       "2  IMAGE_0002.jpg  meningioma_tumor    1\n",
       "3  IMAGE_0003.jpg      glioma_tumor    1\n",
       "4  IMAGE_0004.jpg  meningioma_tumor    1"
      ]
     },
     "execution_count": 3,
     "metadata": {},
     "output_type": "execute_result"
    }
   ],
   "source": [
    "# For binary task classification, we simply use \"0\" and \"1\" to indicate and identify whether there is a tumor in the MRI images. \n",
    "label_csv['new'] = 1\n",
    "label_csv['new'][label_csv['label']=='no_tumor'] = 0\n",
    "\n",
    "# Check result.\n",
    "label_csv.head()"
   ]
  },
  {
   "cell_type": "code",
   "execution_count": 4,
   "id": "6b033035",
   "metadata": {},
   "outputs": [
    {
     "data": {
      "text/plain": [
       "((3000,), dtype('uint8'))"
      ]
     },
     "execution_count": 4,
     "metadata": {},
     "output_type": "execute_result"
    }
   ],
   "source": [
    "# Transfer label into array dataformat.\n",
    "label_TaskA = np.array(label_csv['new']).astype('uint8')\n",
    "\n",
    "# Check result.\n",
    "label_TaskA.shape, label_TaskA.dtype"
   ]
  },
  {
   "cell_type": "markdown",
   "id": "375166f5",
   "metadata": {},
   "source": [
    "## 2. Preprocess MRI images"
   ]
  },
  {
   "cell_type": "code",
   "execution_count": 5,
   "id": "b6abac93",
   "metadata": {},
   "outputs": [],
   "source": [
    "# Import necessary libraries\n",
    "import cv2\n",
    "from glob import glob"
   ]
  },
  {
   "cell_type": "code",
   "execution_count": 6,
   "id": "18e23a01",
   "metadata": {},
   "outputs": [],
   "source": [
    "# Read 3000 512x512 pixel gray-scale MRI images\n",
    "images = [cv2.imread(image, cv2.IMREAD_GRAYSCALE) \n",
    "          for image in glob('dataset/image/*.jpg')]\n",
    "\n",
    "\n",
    "## Uncomment the following code to check MRI image\n",
    "# cv2.imshow('MRI Image Test', images[0])\n",
    "# cv2.waitKey(0)\n",
    "# cv2.destroyAllWindows()"
   ]
  },
  {
   "cell_type": "code",
   "execution_count": 7,
   "id": "e462324d",
   "metadata": {},
   "outputs": [],
   "source": [
    "# Median filter is used to remove noise from the MRI images. \n",
    "images_blur = [cv2.medianBlur(images[i], 5)\n",
    "               for i in range(0, len(images))]\n",
    "\n",
    "\n",
    "# ## Uncomment the following code to check filtered MRI image.\n",
    "# cv2.imshow('MRI Image After Median Filter Test', images_blur[0])\n",
    "# cv2.waitKey(0)\n",
    "# cv2.destroyAllWindows()"
   ]
  },
  {
   "cell_type": "code",
   "execution_count": 8,
   "id": "30adcd5c",
   "metadata": {},
   "outputs": [],
   "source": [
    "# Enhance the contrast of the picture.\n",
    "alpha = 1.5 # Contrast control (1.0-3.0)\n",
    "beta = 0 # Brightness control (0-100)\n",
    "images_adjusted = [cv2.convertScaleAbs(images_blur[i], alpha=alpha, beta=beta)\n",
    "                   for i in range(0, len(images))]\n",
    "\n",
    "# Normalize pictures by using Maximum and minimum normalization.\n",
    "images_normlize = [cv2.normalize(images_adjusted[i], None, alpha=0,beta=1, norm_type=cv2.NORM_MINMAX, dtype=cv2.CV_32F) \n",
    "                   for i in range(0, len(images))]\n",
    "\n",
    "\n",
    "# ## Uncomment the following code to check MRI image after enhancement.\n",
    "# cv2.imshow('MRI Image After Median Filter Test', images_adjusted[0])\n",
    "# cv2.waitKey(0)\n",
    "# cv2.destroyAllWindows()"
   ]
  },
  {
   "cell_type": "code",
   "execution_count": 9,
   "id": "ad43e697",
   "metadata": {},
   "outputs": [
    {
     "name": "stdout",
     "output_type": "stream",
     "text": [
      "3000 images with 128x128 pixel. \n",
      "\n",
      "After vectorization\n",
      "3000 vectorized images with 16384(512^2) pixel.\n"
     ]
    }
   ],
   "source": [
    "# Resize images into 128*128 pixel\n",
    "resize = 128\n",
    "images_resized = [cv2.resize(images_normlize[i], (resize,resize))\n",
    "                  for i in range(0, len(images))]\n",
    "\n",
    "# Transfer images into array dataformat\n",
    "images_TaskA = np.array(images_resized)\n",
    "\n",
    "# Print image infotmation\n",
    "print('{} images with {}x{} pixel. \\n'.format(images_TaskA.shape[0], \n",
    "                                              images_TaskA.shape[1], \n",
    "                                              images_TaskA.shape[2]))\n",
    "\n",
    "# Vectorize images.\n",
    "images_TaskA = images_TaskA.reshape((3000, resize*resize))\n",
    "\n",
    "# Print vectorized image information\n",
    "print('After vectorization')\n",
    "print('{} vectorized images with {}(512^2) pixel.'.format(images_TaskA.shape[0], \n",
    "                                                          images_TaskA.shape[1]))"
   ]
  },
  {
   "cell_type": "markdown",
   "id": "5b858ee3",
   "metadata": {},
   "source": [
    "## 3. Data dimensionality reduction and denoising by using PCA"
   ]
  },
  {
   "cell_type": "markdown",
   "id": "5e765efd",
   "metadata": {},
   "source": [
    "### A simple verification: SVM without PCA"
   ]
  },
  {
   "cell_type": "code",
   "execution_count": 17,
   "id": "1f83a100",
   "metadata": {},
   "outputs": [],
   "source": [
    "# Import necessary libraries\n",
    "from sklearn.model_selection import train_test_split\n",
    "from sklearn.svm import SVC\n",
    "from sklearn.metrics import accuracy_score"
   ]
  },
  {
   "cell_type": "code",
   "execution_count": 22,
   "id": "30a4fb5b",
   "metadata": {},
   "outputs": [
    {
     "data": {
      "text/plain": [
       "((2700, 16384), (2700,), (300, 16384), (300,))"
      ]
     },
     "execution_count": 22,
     "metadata": {},
     "output_type": "execute_result"
    }
   ],
   "source": [
    "# Split data into a training set and a test set (90% training and 10% testing data).\n",
    "# Notice that all random state is chosen as fixed in this assignment to ensure reproducibility.\n",
    "X_train, X_test, y_train, y_test = train_test_split(images_TaskA,label_TaskA, \n",
    "                                                    test_size=0.1, random_state=0)\n",
    "\n",
    "# Check result.\n",
    "X_train.shape, y_train.shape, X_test.shape, y_test.shape "
   ]
  },
  {
   "cell_type": "code",
   "execution_count": 23,
   "id": "0b0114a6",
   "metadata": {},
   "outputs": [
    {
     "data": {
      "text/plain": [
       "SVC()"
      ]
     },
     "execution_count": 23,
     "metadata": {},
     "output_type": "execute_result"
    }
   ],
   "source": [
    "# Call the SVC() model from sklearn and fit the model to the training data.\n",
    "svm_test = SVC()\n",
    "svm_test.fit(X_train, y_train)"
   ]
  },
  {
   "cell_type": "code",
   "execution_count": 24,
   "id": "973f51ae",
   "metadata": {},
   "outputs": [
    {
     "name": "stdout",
     "output_type": "stream",
     "text": [
      "Accuracy score: 0.9166666666666666\n"
     ]
    }
   ],
   "source": [
    "# Get predictions from the model.\n",
    "pred_test = svm_test.predict(X_test)\n",
    "\n",
    "# Check the accuracy score.\n",
    "print('Accuracy score:', accuracy_score(y_test,pred_test))"
   ]
  },
  {
   "cell_type": "markdown",
   "id": "b059450d",
   "metadata": {},
   "source": [
    "### Implement PCA to reduce dimension of dataset"
   ]
  },
  {
   "cell_type": "code",
   "execution_count": 25,
   "id": "63351cd1",
   "metadata": {},
   "outputs": [],
   "source": [
    "# Import necessary libraries\n",
    "from sklearn.decomposition import PCA"
   ]
  },
  {
   "cell_type": "code",
   "execution_count": 26,
   "id": "5467d581",
   "metadata": {},
   "outputs": [
    {
     "data": {
      "text/plain": [
       "PCA(n_components=500)"
      ]
     },
     "execution_count": 26,
     "metadata": {},
     "output_type": "execute_result"
    }
   ],
   "source": [
    "# Call the PCA() model from sklearn and fit the model to the data without PCA.\n",
    "# In this example, we want to oberserve the top 500 principal components of data.\n",
    "pca_test = PCA(n_components=500)\n",
    "pca_test.fit(images_TaskA)"
   ]
  },
  {
   "cell_type": "code",
   "execution_count": 27,
   "id": "45d4c6f5",
   "metadata": {},
   "outputs": [
    {
     "data": {
      "text/plain": [
       "Text(0, 0.5, 'Loss')"
      ]
     },
     "execution_count": 27,
     "metadata": {},
     "output_type": "execute_result"
    },
    {
     "data": {
      "image/png": "[encoded data removed]",
      "text/plain": [
       "<Figure size 576x432 with 1 Axes>"
      ]
     },
     "metadata": {
      "needs_background": "light"
     },
     "output_type": "display_data"
    }
   ],
   "source": [
    "# Import necessary libraries\n",
    "import matplotlib.pyplot as plt\n",
    "\n",
    "# Compute cumulative variance ratio of first 500 principle components.\n",
    "n_components = 500\n",
    "variance_ratio = pca_test.explained_variance_ratio_\n",
    "variance_ratio_cum = variance_ratio.cumsum()\n",
    "\n",
    "# Plot cumulative variance ratio of first 500 principle components.\n",
    "plt.figure(figsize=(8,6))\n",
    "plt.grid()   \n",
    "    \n",
    "plt.plot(variance_ratio_cum[:n_components], 'o-')\n",
    "plt.title('Cumulative variance ratio')\n",
    "plt.xlabel('Number of components')\n",
    "plt.ylabel('Loss')"
   ]
  },
  {
   "cell_type": "markdown",
   "id": "2457a2a2",
   "metadata": {},
   "source": [
    "### A simple verification: SVM with PCA"
   ]
  },
  {
   "cell_type": "code",
   "execution_count": 28,
   "id": "6f98729b",
   "metadata": {},
   "outputs": [
    {
     "name": "stdout",
     "output_type": "stream",
     "text": [
      "(2700, 200) (2700,) (300, 200) (300,)\n",
      "train set: 0.9  | test set: 0.1\n"
     ]
    }
   ],
   "source": [
    "# Call the PCA() model from sklearn and fit the model to the training data.\n",
    "# Notice that number of components is chosen as 200, since they contain more than 80% of information.\n",
    "pca_TaskA = PCA(n_components=200)\n",
    "images_PCA = pca_TaskA.fit_transform(images_TaskA)\n",
    "\n",
    "\n",
    "# Split data into a training set and a test set (90% training and 10% testing data).\n",
    "# Notice that all random state is chosen as fixed in this assignment to ensure reproducibility.\n",
    "X_train_PCA, X_test_PCA, y_train_PCA, y_test_PCA = train_test_split(images_PCA,label_TaskA, \n",
    "                                                                    test_size=0.1, random_state=0)\n",
    "\n",
    "# Check result.\n",
    "print(X_train_PCA.shape, y_train_PCA.shape, X_test_PCA.shape, y_test_PCA.shape) \n",
    "print('train set: {}  | test set: {}'.format(round(len(y_train_PCA)/len(images_PCA),3), \n",
    "                                             round(len(y_test_PCA)/len(images_PCA),3)))"
   ]
  },
  {
   "cell_type": "code",
   "execution_count": 29,
   "id": "a6a48da1",
   "metadata": {},
   "outputs": [
    {
     "name": "stdout",
     "output_type": "stream",
     "text": [
      "Accuracy score: 0.9333333333333333\n"
     ]
    }
   ],
   "source": [
    "# Call the SVC() model from sklearn and fit the model to the training data after PCA.\n",
    "svm_PCA = SVC()\n",
    "svm_PCA.fit(X_train_PCA, y_train_PCA)\n",
    "\n",
    "# Get predictions from the model.\n",
    "pred_PCA = svm_PCA.predict(X_test_PCA)\n",
    "\n",
    "# Check the accuracy score.\n",
    "print('Accuracy score:', accuracy_score(y_test_PCA,pred_PCA))"
   ]
  },
  {
   "cell_type": "markdown",
   "id": "30ff5c17",
   "metadata": {},
   "source": [
    "## 4. Save preprocessed data"
   ]
  },
  {
   "cell_type": "code",
   "execution_count": 30,
   "id": "b834799d",
   "metadata": {},
   "outputs": [],
   "source": [
    "# Import necessary libraries\n",
    "import pickle"
   ]
  },
  {
   "cell_type": "code",
   "execution_count": 31,
   "id": "d4ddce38",
   "metadata": {},
   "outputs": [
    {
     "data": {
      "text/plain": [
       "((3000, 200), (3000,))"
      ]
     },
     "execution_count": 31,
     "metadata": {},
     "output_type": "execute_result"
    }
   ],
   "source": [
    "# Generate new data array of preprocessed data.\n",
    "images_AfterProcess = images_PCA.copy()\n",
    "label_AfterProcess = label_TaskA.copy()\n",
    "\n",
    "# Check preprocessed data.\n",
    "images_AfterProcess.shape, label_AfterProcess.shape"
   ]
  },
  {
   "cell_type": "code",
   "execution_count": 32,
   "id": "30cbb5b4",
   "metadata": {},
   "outputs": [],
   "source": [
    "# Save PCA model trained with 3000 MRI images.\n",
    "with open('Model/DataProcess_PCA.pickle', 'wb') as handle:\n",
    "    pickle.dump(pca_TaskA, handle)\n",
    "\n",
    "# Save preprocessed data with help of pickle.\n",
    "with open('DataAfterProcess/images_AfterProcess.pickle', 'wb') as handle:\n",
    "    pickle.dump(images_AfterProcess, handle)\n",
    "    \n",
    "with open('DataAfterProcess/label_AfterProcess.pickle', 'wb') as handle:\n",
    "    pickle.dump(label_AfterProcess, handle)"
   ]
  },
  {
   "cell_type": "code",
   "execution_count": null,
   "id": "f368bfe3",
   "metadata": {},
   "outputs": [],
   "source": []
  }
 ],
 "metadata": {
  "kernelspec": {
   "display_name": "Python 3 (ipykernel)",
   "language": "python",
   "name": "python3"
  },
  "language_info": {
   "codemirror_mode": {
    "name": "ipython",
    "version": 3
   },
   "file_extension": ".py",
   "mimetype": "text/x-python",
   "name": "python",
   "nbconvert_exporter": "python",
   "pygments_lexer": "ipython3",
   "version": "3.7.11"
  }
 },
 "nbformat": 4,
 "nbformat_minor": 5
}
